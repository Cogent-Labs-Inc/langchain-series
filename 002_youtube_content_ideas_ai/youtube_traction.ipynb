{
 "cells": [
  {
   "cell_type": "markdown",
   "source": [
    "# AI in Content Generation: Youtube Ideas from historical content performance\n",
    "\n",
    "\n",
    "## Channel: This Week in Startups"
   ],
   "metadata": {
    "collapsed": false,
    "pycharm": {
     "name": "#%% md\n"
    }
   }
  },
  {
   "cell_type": "markdown",
   "source": [
    "The provided code is a class called \"Summarizer\" that uses the Langchain library to summarize YouTube videos. It has the following key functionalities:\n",
    "\n",
    "Loading Data: The \\_load_data() method utilizes the YoutubeLoader class from the Langchain library to load YouTube video data, including the video's content and metadata.\n",
    "\n",
    "Chunking Data: The create_chunks() method splits the video content into smaller text chunks using the RecursiveCharacterTextSplitter class. This helps in processing large text inputs more efficiently.\n",
    "\n",
    "Summarizing: The summarize() method initializes a summarization chain from the Langchain library using the load_summarize_chain() function. It then asynchronously runs the summarization chain on the text chunks generated earlier using the \\_chain_run() method. The summary result is collected and returned along with the video metadata.\n",
    "\n",
    "Overall, this code provides a convenient way to summarize YouTube videos by leveraging Langchain's text processing capabilities.\n"
   ],
   "metadata": {
    "collapsed": false,
    "pycharm": {
     "name": "#%% md\n"
    }
   }
  },
  {
   "cell_type": "code",
   "execution_count": null,
   "outputs": [],
   "source": [
    "import asyncio\n",
    "from langchain.chat_models import ChatOpenAI\n",
    "from langchain.chains.summarize import load_summarize_chain\n",
    "from langchain.text_splitter import RecursiveCharacterTextSplitter\n",
    "from langchain.document_loaders import YoutubeLoader\n",
    "\n",
    "import pandas as pd\n",
    "\n",
    "\n",
    "class Summarizer:\n",
    "    def __init__(self, url, llm):\n",
    "        self.url = url\n",
    "        self.llm = llm\n",
    "        self.doc_chunks = []\n",
    "        self.metadata = []\n",
    "\n",
    "    def _load_data(self):\n",
    "        loader = YoutubeLoader.from_youtube_url(self.url, add_video_info=True)\n",
    "\n",
    "        return loader.load()\n",
    "\n",
    "    def create_chunks(self):\n",
    "        text_splitter = RecursiveCharacterTextSplitter(\n",
    "            chunk_size=3500,\n",
    "            chunk_overlap=20,\n",
    "            length_function=len,\n",
    "        )\n",
    "        text = self._load_data()\n",
    "        self.doc_chunks = text_splitter.create_documents(\n",
    "            [doc.page_content for doc in text]\n",
    "        )\n",
    "        self.metadata = text[0].metadata\n",
    "\n",
    "        return\n",
    "\n",
    "    async def _chain_run(self, chain, docs):\n",
    "        return await chain.arun(docs)\n",
    "\n",
    "    async def summarize(self):\n",
    "        summarizer_chain = load_summarize_chain(llm=self.llm, chain_type=\"map_reduce\")\n",
    "        tasks = [self._chain_run(summarizer_chain, self.doc_chunks)]\n",
    "        summary = await asyncio.gather(*tasks)\n",
    "\n",
    "        return {\"summary\": summary[0], \"metadata\": self.metadata}"
   ],
   "metadata": {
    "collapsed": false,
    "pycharm": {
     "name": "#%%\n"
    }
   }
  },
  {
   "cell_type": "code",
   "execution_count": null,
   "outputs": [],
   "source": [
    "import concurrent.futures\n",
    "import asyncio\n",
    "import time\n",
    "\n",
    "\n",
    "def process_summary(url):\n",
    "    llm = ChatOpenAI(model=\"gpt-3.5-turbo\", temperature=0.5)\n",
    "    summarizer = Summarizer(url, llm)\n",
    "    summarizer.create_chunks()\n",
    "\n",
    "    return asyncio.run(summarizer.summarize())\n",
    "\n",
    "\n",
    "def pool_executor(urls):\n",
    "    results = []\n",
    "\n",
    "    with concurrent.futures.ThreadPoolExecutor() as executor:\n",
    "        # Submit each URL to the executor\n",
    "        futures = [executor.submit(process_summary, url) for url in urls]\n",
    "\n",
    "        # Wait for all futures to complete\n",
    "        for future in concurrent.futures.as_completed(futures):\n",
    "            try:\n",
    "                result = future.result()\n",
    "                results.append(result)\n",
    "            except Exception as e:\n",
    "                print(f\"Error processing URL: {e}\")\n",
    "\n",
    "    return results"
   ],
   "metadata": {
    "collapsed": false,
    "pycharm": {
     "name": "#%%\n"
    }
   }
  },
  {
   "cell_type": "code",
   "execution_count": null,
   "outputs": [],
   "source": [
    "high_engagement_vids_urls = [\n",
    "    \"https://www.youtube.com/watch?v=_8bMMqy37y8&ab_channel=ThisWeekinStartups\",\n",
    "    \"https://www.youtube.com/watch?v=1SWEF-lyW28&ab_channel=ThisWeekinStartups\",\n",
    "    \"https://www.youtube.com/watch?v=oc5tHbEK0IQ&ab_channel=ThisWeekinStartups\",\n",
    "    \"https://www.youtube.com/watch?v=jrd4snFDSVA&ab_channel=ThisWeekinStartups\",\n",
    "]\n",
    "\n",
    "low_engagement_vids_urls = [\n",
    "    \"https://www.youtube.com/watch?v=UeIV4KcSUlk\",\n",
    "    \"https://www.youtube.com/watch?v=hNcLMN_bZCM\",\n",
    "    \"https://www.youtube.com/watch?v=ANd4jPLnMAU\",\n",
    "    \"https://www.youtube.com/watch?v=J8YnxrGEzT4\",\n",
    "]\n",
    "\n",
    "high_engagement_summaries = pool_executor(high_engagement_vids_urls)\n",
    "\n",
    "low_engagement_summaries = pool_executor(low_engagement_vids_urls)"
   ],
   "metadata": {
    "collapsed": false,
    "pycharm": {
     "name": "#%%\n"
    }
   }
  },
  {
   "cell_type": "code",
   "execution_count": null,
   "outputs": [],
   "source": [
    "high_eng_df = pd.DataFrame.from_records(high_engagement_summaries)\n",
    "high_eng_df"
   ],
   "metadata": {
    "collapsed": false,
    "pycharm": {
     "name": "#%%\n"
    }
   }
  },
  {
   "cell_type": "code",
   "execution_count": null,
   "outputs": [],
   "source": [
    "low_eng_df = pd.DataFrame.from_records(low_engagement_summaries)\n",
    "low_eng_df"
   ],
   "metadata": {
    "collapsed": false,
    "pycharm": {
     "name": "#%%\n"
    }
   }
  },
  {
   "cell_type": "code",
   "execution_count": null,
   "outputs": [],
   "source": [
    "def format_summaries(data):\n",
    "    formatted_strings = []\n",
    "    for i, obj in enumerate(data, start=1):\n",
    "        summary = obj[\"summary\"]\n",
    "        views = obj[\"metadata\"][\"view_count\"]\n",
    "        title = obj[\"metadata\"][\"title\"].split(\"|\")[0].strip()\n",
    "\n",
    "        formatted_string = (\n",
    "            f\"Video {i}\\nTitle: {title}\\nView Count: {views}\\nSummary: {summary}\\n\"\n",
    "        )\n",
    "        formatted_strings.append(formatted_string)\n",
    "\n",
    "    result = \"\\n\".join(formatted_strings)\n",
    "    return result\n",
    "\n",
    "\n",
    "high_eng_prompt = format_summaries(high_engagement_summaries)\n",
    "low_eng_prompt = format_summaries(low_engagement_summaries)"
   ],
   "metadata": {
    "collapsed": false,
    "pycharm": {
     "name": "#%%\n"
    }
   }
  },
  {
   "cell_type": "code",
   "execution_count": null,
   "outputs": [],
   "source": [
    "print(high_eng_prompt)"
   ],
   "metadata": {
    "collapsed": false,
    "pycharm": {
     "name": "#%%\n"
    }
   }
  },
  {
   "cell_type": "code",
   "execution_count": null,
   "outputs": [],
   "source": [
    "print(low_eng_prompt)"
   ],
   "metadata": {
    "collapsed": false,
    "pycharm": {
     "name": "#%%\n"
    }
   }
  },
  {
   "cell_type": "code",
   "execution_count": null,
   "outputs": [],
   "source": [
    "from langchain.prompts import PromptTemplate\n",
    "from langchain.chains import LLMChain\n",
    "from langchain.chat_models import ChatOpenAI\n",
    "\n",
    "prompt_template = \"\"\" You are helpful AI assistant that helps to increase the engagement of youtube videos by analyzing the scripts of old videos.\\\n",
    "Looking at the given videos below in High_engagement_Videos and Low_engagement_videos sections,\\\n",
    "come up with new ideas for next videos.\\\n",
    "    \n",
    "High_Engagement_Videos:\n",
    "{high_engagement_videos}\n",
    "    \n",
    "Low_Engagement_Videos:\n",
    "{low_engagement_videos}\n",
    "\n",
    "Given the above High_Engagement_Videos and Low_Engagement_Videos, generate new ideas and themes.\n",
    "New ideas should be related to the High_Engagement_Videos by keeping the titles and summaries of the episodes in context and must be based on\\\n",
    "the common patterns between the High_Engagement_Videos and the guests in those episodes.\\\n",
    "The new videos should not have any content from Low_Engagement_Videos.\\\n",
    "Make sure to not include any speaker name in your suggested video topics or themes.\n",
    "Make sure to return at least 10 new ideas. Your response must be a csv file which contains the following columns:\\\n",
    "Topic, Theme, Summary. Summary should contain points to talk on the show and must be 100 words at max. Use | as a seperator\\\n",
    "and do not append any extra line in your csv response. Each row must have proper data and columns in each row must be three.\n",
    "If you don't know the answer, just say \"Hmm, I'm not sure.\"\\\n",
    "Don't try to make up an answer. \n",
    "\"\"\"\n",
    "llm = ChatOpenAI(model=\"gpt-3.5-turbo\", temperature=0.5)\n",
    "PROMPT = PromptTemplate(\n",
    "    template=prompt_template,\n",
    "    input_variables=[\"high_engagement_videos\", \"low_engagement_videos\"],\n",
    ")\n",
    "ideas_chain = LLMChain(llm=llm, prompt=PROMPT, verbose=True)"
   ],
   "metadata": {
    "collapsed": false,
    "pycharm": {
     "name": "#%%\n"
    }
   }
  },
  {
   "cell_type": "code",
   "execution_count": null,
   "outputs": [],
   "source": [
    "response = ideas_chain.run(\n",
    "    {\n",
    "        \"high_engagement_videos\": high_eng_prompt,\n",
    "        \"low_engagement_videos\": low_eng_prompt,\n",
    "    }\n",
    ")"
   ],
   "metadata": {
    "collapsed": false,
    "pycharm": {
     "name": "#%%\n"
    }
   }
  },
  {
   "cell_type": "code",
   "execution_count": 9,
   "metadata": {
    "pycharm": {
     "name": "#%%\n"
    }
   },
   "outputs": [],
   "source": [
    "from langchain.prompts import PromptTemplate\n",
    "from langchain.chains import LLMChain\n",
    "from langchain.chat_models import ChatOpenAI\n",
    "\n",
    "prompt_template = \"\"\" You are helpful AI assistant that helps to increase the engagement of youtube videos by analyzing the scripts of old videos.\\\n",
    "Looking at the given videos below in High_engagement_Videos and Low_engagement_videos sections,\\\n",
    "come up with new ideas for next videos.\\\n",
    "    \n",
    "High_Engagement_Videos:\n",
    "{high_engagement_videos}\n",
    "    \n",
    "Low_Engagement_Videos:\n",
    "{low_engagement_videos}\n",
    "\n",
    "Given the above High_Engagement_Videos and Low_Engagement_Videos, generate new ideas and themes.\n",
    "New ideas should be related to the High_Engagement_Videos by keeping the titles and summaries of the episodes in context and must be based on\\\n",
    "the common patterns between the High_Engagement_Videos and the guests in those episodes.\\\n",
    "The new videos should not have any content from Low_Engagement_Videos.\\\n",
    "Make sure to not include any speaker name in your suggested video topics or themes.\n",
    "Make sure to return at least 10 new ideas. Your response must be a csv file which contains the following columns:\\\n",
    "Topic, Theme, Summary. Summary should contain points to talk on the show and must be 100 words at max. Use | as a seperator\\\n",
    "and do not append any extra line in your csv response. Each row must have proper data and columns in each row must be three.\n",
    "If you don't know the answer, just say \"Hmm, I'm not sure.\"\\\n",
    "Don't try to make up an answer. \n",
    "\"\"\"\n",
    "llm = ChatOpenAI(model=\"gpt-3.5-turbo\", temperature=0.5)\n",
    "PROMPT = PromptTemplate(\n",
    "    template=prompt_template,\n",
    "    input_variables=[\"high_engagement_videos\", \"low_engagement_videos\"],\n",
    ")\n",
    "ideas_chain = LLMChain(llm=llm, prompt=PROMPT, verbose=True)"
   ]
  },
  {
   "cell_type": "code",
   "execution_count": 10,
   "metadata": {
    "pycharm": {
     "name": "#%%\n"
    }
   },
   "outputs": [
    {
     "name": "stdout",
     "output_type": "stream",
     "text": [
      "\n",
      "\n",
      "\u001B[1m> Entering new LLMChain chain...\u001B[0m\n",
      "Prompt after formatting:\n",
      "\u001B[32;1m\u001B[1;3m You are helpful AI assistant that helps to increase the engagement of youtube videos by analyzing the scripts of old videos.Looking at the given videos below in High_engagement_Videos and Low_engagement_videos sections,come up with new ideas for next videos.    \n",
      "High_Engagement_Videos:\n",
      "Video 1\n",
      "Title: ChatGPT vs Hollywood writers and the WGA strike with Lon Harris\n",
      "View Count: 137823\n",
      "Summary: The summary of the given texts is that there are discussions and suggestions regarding various topics such as the need for stable employment and fair compensation for writers in the entertainment industry, the impact of streaming platforms on the industry, the potential use of AI in writing, the rebranding of HBO Max, the development of AI bots in podcasting, the effects of TikTok on mental health, and concerns about excessive smartphone use. Additionally, there are mentions of specific shows, movies, and products throughout the texts.\n",
      "\n",
      "Video 2\n",
      "Title: Demoing Google’s MusicLM, AssemblyAI, and other AI tools with Sunny Madra\n",
      "View Count: 104388\n",
      "Summary: The conversation covers various topics related to AI technology, including its potential to surpass human podcast hosts, advancements in AI platforms like Definitive Intelligence, limitations of mobile Chrome, the use of AI in music generation, the platform Issue.com for creating and distributing digital content, the importance of training data for AI models, legal implications of using copyrighted material, companies closing off data sets, transcription tools like AssemblyAI, the potential of AI in podcasting, and the speaker's event offering a VIP ticket for the best video or audio creation of an interview with Steve Jobs.\n",
      "\n",
      "Video 3\n",
      "Title: GPT-4 web browsing, plugin demos, AI layoffs + more with Sunny Madra & Vinny Lingham\n",
      "View Count: 92976\n",
      "Summary: The summary provides an overview of various topics discussed in a conversation. These topics include the use of social features to drive product growth, the use of AI in chat streams and decision trees, OpenAI's new model called web browsing with GPT4, the limitations and benefits of Chat GPT4, the limitations of Twitter's algorithm, the use of AI in B2B marketing on LinkedIn, the potential impact of AI on jobs, the potential opportunities of automation, the usefulness of GPT in providing information, ongoing discussions about a deadly illegal drug in San Francisco, the importance of social features in product growth, a video editing tool with potential, the idea of using AI for podcast questions and interviews, Zillow's chatbot and its impact on the real estate industry, and upcoming events. The speaker concludes by saying goodbye and indicating future interactions.\n",
      "\n",
      "Video 4\n",
      "Title: Fireside chat with Jason Calacanis & Brad Gerstner hosted by Mubadala’s Ibrahim Ajami\n",
      "View Count: 100551\n",
      "Summary: Jason Calacanis and Brad Gerstner have a Fireside conversation at HUB 71 in Abu Dhabi, discussing their experiences in Silicon Valley and their admiration for each other. They talk about the challenges faced by entrepreneurs in the tech industry and the current correction happening in the industry. They emphasize the importance of founders being efficient and creative during difficult times. They believe that all unicorns will experience a decrease in value, but this is an opportunity for dedicated founders to prove their resilience. They discuss the importance of product velocity and evaluating founders based on their product updates. They also highlight the significance of investing in companies that align with major market trends and super cycles. The speaker discusses their program called Foundry University, which provides funding for start-ups. They emphasize the importance of passion and obsession in being a successful founder. The speaker discusses the impact of technology on employment and the potential for individuals to become developers through conversational coding. They also discuss the value of data and AI technology in various industries. The speaker emphasizes the power of being the first investor to provide financial support to a startup. They encourage capital allocators to take more risks and be supportive of founders. The speaker emphasizes the importance of working on impactful projects and making strategic investments. They discuss the importance of humility and normalizing failure in the world of investment and entrepreneurship. They believe in the value of in-person collaboration and the energy of being in an office. The speaker discusses their career and the importance of hard work and dedication. They encourage founders to be intellectually honest and transparent with investors. They discuss the benefits of raising venture capital in Silicon Valley and advise entrepreneurs to focus on their idea, work ethic, and integrity. The speaker emphasizes the importance of networking and building a community for entrepreneurs. They express gratitude for the audience's presence and their impact on the industry. They thank the audience for their inspiration and express their desire to make a difference and build important companies.\n",
      "\n",
      "    \n",
      "Low_Engagement_Videos:\n",
      "Video 1\n",
      "Title: Banking crisis impact, more Meta cuts, and GPT-4 with Sunny Madra and Vinny Lingham\n",
      "View Count: 20470\n",
      "Summary: The podcast episode features a roundtable discussion on various topics including the impact of the banking contagion on the crypto industry, the potential adoption of a CBDC by the US, risk management, and the influence of social media on banking. The episode is sponsored by Cast AI, Vanta, and OrgSpace. The speakers discuss their experiences with different banks, the challenges faced by entrepreneurs, and the need for transparency in the banking industry. They also discuss the importance of scenario planning for startups and the potential benefits and drawbacks of centralized digital currencies. The discussion touches on the role of social media in journalism, the changing funding environment for banks and startups, and the impact of interest rates. The episode concludes with a mention of Mark Zuckerberg's efficiency measures at Facebook.\n",
      "\n",
      "Video 2\n",
      "Title: Coinbase cuts 20%, Microsoft to invest $10B into OpenAI & Ascend Elements CEO Mike O’Kronley\n",
      "View Count: 30730\n",
      "Summary: The podcast covers various topics including extreme weather conditions, Coinbase's layoffs, Microsoft's relationship with OpenAI, climate technology, and a climate tech startup. It is sponsored by Vanta, Mixpanel, and Squarespace. The passage discusses the impact of heavy rain in the Bay Area, Coinbase's workforce reduction, and concerns about the crypto market. It also mentions the benefits of using Vanta for compliance, job opportunities in different industries, the AI startup bubble, and the acquisition of OpenAI by Microsoft. Additionally, it discusses the benefits of Squarespace for entrepreneurs and the growth of the solar energy industry. The passage also touches on geopolitical concerns, lithium-ion battery recycling, and the positive performance of a sub stock founder.\n",
      "\n",
      "Video 3\n",
      "Title: Logan Paul & CryptoZoo’s alleged scam breakdown with Coffeezilla + OK Boomer with Em Herrera\n",
      "View Count: 14866\n",
      "Summary: The summary discusses an upcoming episode of the podcast \"This Week in Startups\" where the host, Jason Calacanis, will be joined by Coffeezilla, a famous YouTuber and investigative journalist. They will discuss the alleged scam involving Crypto Zoo and Logan Paul. Coffeezilla's channel focuses on exposing scams, particularly in the online creator ecosystem. The summary also touches on the controversy surrounding Logan Paul's involvement in the failed NFT project and the responsibility he bears for misleading investors. Additionally, it mentions the importance of vetting teams behind crypto and NFT projects, the consequences of SEC fines, and the need for personal cyber security. The summary concludes by mentioning the speaker's own podcast that focuses on the balance of wellness and personal relationships with technology.\n",
      "\n",
      "Video 4\n",
      "Title: Bing dodges $100B bullet & IVP's Tom Loverro on the looming startup collapse\n",
      "View Count: 20538\n",
      "Summary: The podcast episode covers a range of topics, including concerns about the privacy and security of personal health data, the challenges faced by startups in fundraising and investment, the importance of governance and engaged boards, the impact of layoffs and difficult periods on companies, the importance of focusing on core survival and sustainability, and the qualities of great founders and investors. The episode also mentions various promotions and advertisements for Squarespace, Fitbot, and a macadamia nut business. The episode ends with a preview of the next episode featuring investor Devin Pereck.\n",
      "\n",
      "\n",
      "Given the above High_Engagement_Videos and Low_Engagement_Videos, generate new ideas and themes.\n",
      "New ideas should be related to the High_Engagement_Videos by keeping the titles and summaries of the episodes in context and must be based onthe common patterns between the High_Engagement_Videos and the guests in those episodes.The new videos should not have any content from Low_Engagement_Videos.Make sure to not include any speaker name in your suggested video topics or themes.\n",
      "Make sure to return at least 10 new ideas. Your response must be a csv file which contains the following columns:Topic, Theme, Summary. Summary should contain points to talk on the show and must be 100 words at max. Use | as a seperatorand do not append any extra line in your csv response. Each row must have proper data and columns in each row must be three.\n",
      "If you don't know the answer, just say \"Hmm, I'm not sure.\"Don't try to make up an answer. \n",
      "\u001B[0m\n"
     ]
    },
    {
     "name": "stdout",
     "output_type": "stream",
     "text": [
      "\n",
      "\u001B[1m> Finished chain.\u001B[0m\n"
     ]
    }
   ],
   "source": [
    "response = ideas_chain.run(\n",
    "    {\n",
    "        \"high_engagement_videos\": high_eng_prompt,\n",
    "        \"low_engagement_videos\": low_eng_prompt,\n",
    "    }\n",
    ")"
   ]
  },
  {
   "cell_type": "code",
   "execution_count": 11,
   "metadata": {
    "pycharm": {
     "name": "#%%\n"
    }
   },
   "outputs": [
    {
     "name": "stdout",
     "output_type": "stream",
     "text": [
      "\n",
      "\n",
      "\u001B[1m> Entering new LLMChain chain...\u001B[0m\n",
      "Prompt after formatting:\n",
      "\u001B[32;1m\u001B[1;3m You are helpful AI assistant that helps to increase the engagement of youtube videos by analyzing the scripts of old videos.Looking at the given videos below in High_engagement_Videos and Low_engagement_videos sections,come up with new ideas for next videos.    \n",
      "High_Engagement_Videos:\n",
      "Video 1\n",
      "Title: ChatGPT vs Hollywood writers and the WGA strike with Lon Harris\n",
      "View Count: 137823\n",
      "Summary: The summary of the given texts is that there are discussions and suggestions regarding various topics such as the need for stable employment and fair compensation for writers in the entertainment industry, the impact of streaming platforms on the industry, the potential use of AI in writing, the rebranding of HBO Max, the development of AI bots in podcasting, the effects of TikTok on mental health, and concerns about excessive smartphone use. Additionally, there are mentions of specific shows, movies, and products throughout the texts.\n",
      "\n",
      "Video 2\n",
      "Title: Demoing Google’s MusicLM, AssemblyAI, and other AI tools with Sunny Madra\n",
      "View Count: 104388\n",
      "Summary: The conversation covers various topics related to AI technology, including its potential to surpass human podcast hosts, advancements in AI platforms like Definitive Intelligence, limitations of mobile Chrome, the use of AI in music generation, the platform Issue.com for creating and distributing digital content, the importance of training data for AI models, legal implications of using copyrighted material, companies closing off data sets, transcription tools like AssemblyAI, the potential of AI in podcasting, and the speaker's event offering a VIP ticket for the best video or audio creation of an interview with Steve Jobs.\n",
      "\n",
      "Video 3\n",
      "Title: GPT-4 web browsing, plugin demos, AI layoffs + more with Sunny Madra & Vinny Lingham\n",
      "View Count: 92976\n",
      "Summary: The summary provides an overview of various topics discussed in a conversation. These topics include the use of social features to drive product growth, the use of AI in chat streams and decision trees, OpenAI's new model called web browsing with GPT4, the limitations and benefits of Chat GPT4, the limitations of Twitter's algorithm, the use of AI in B2B marketing on LinkedIn, the potential impact of AI on jobs, the potential opportunities of automation, the usefulness of GPT in providing information, ongoing discussions about a deadly illegal drug in San Francisco, the importance of social features in product growth, a video editing tool with potential, the idea of using AI for podcast questions and interviews, Zillow's chatbot and its impact on the real estate industry, and upcoming events. The speaker concludes by saying goodbye and indicating future interactions.\n",
      "\n",
      "Video 4\n",
      "Title: Fireside chat with Jason Calacanis & Brad Gerstner hosted by Mubadala’s Ibrahim Ajami\n",
      "View Count: 100551\n",
      "Summary: Jason Calacanis and Brad Gerstner have a Fireside conversation at HUB 71 in Abu Dhabi, discussing their experiences in Silicon Valley and their admiration for each other. They talk about the challenges faced by entrepreneurs in the tech industry and the current correction happening in the industry. They emphasize the importance of founders being efficient and creative during difficult times. They believe that all unicorns will experience a decrease in value, but this is an opportunity for dedicated founders to prove their resilience. They discuss the importance of product velocity and evaluating founders based on their product updates. They also highlight the significance of investing in companies that align with major market trends and super cycles. The speaker discusses their program called Foundry University, which provides funding for start-ups. They emphasize the importance of passion and obsession in being a successful founder. The speaker discusses the impact of technology on employment and the potential for individuals to become developers through conversational coding. They also discuss the value of data and AI technology in various industries. The speaker emphasizes the power of being the first investor to provide financial support to a startup. They encourage capital allocators to take more risks and be supportive of founders. The speaker emphasizes the importance of working on impactful projects and making strategic investments. They discuss the importance of humility and normalizing failure in the world of investment and entrepreneurship. They believe in the value of in-person collaboration and the energy of being in an office. The speaker discusses their career and the importance of hard work and dedication. They encourage founders to be intellectually honest and transparent with investors. They discuss the benefits of raising venture capital in Silicon Valley and advise entrepreneurs to focus on their idea, work ethic, and integrity. The speaker emphasizes the importance of networking and building a community for entrepreneurs. They express gratitude for the audience's presence and their impact on the industry. They thank the audience for their inspiration and express their desire to make a difference and build important companies.\n",
      "\n",
      "    \n",
      "Low_Engagement_Videos:\n",
      "Video 1\n",
      "Title: Banking crisis impact, more Meta cuts, and GPT-4 with Sunny Madra and Vinny Lingham\n",
      "View Count: 20470\n",
      "Summary: The podcast episode features a roundtable discussion on various topics including the impact of the banking contagion on the crypto industry, the potential adoption of a CBDC by the US, risk management, and the influence of social media on banking. The episode is sponsored by Cast AI, Vanta, and OrgSpace. The speakers discuss their experiences with different banks, the challenges faced by entrepreneurs, and the need for transparency in the banking industry. They also discuss the importance of scenario planning for startups and the potential benefits and drawbacks of centralized digital currencies. The discussion touches on the role of social media in journalism, the changing funding environment for banks and startups, and the impact of interest rates. The episode concludes with a mention of Mark Zuckerberg's efficiency measures at Facebook.\n",
      "\n",
      "Video 2\n",
      "Title: Coinbase cuts 20%, Microsoft to invest $10B into OpenAI & Ascend Elements CEO Mike O’Kronley\n",
      "View Count: 30730\n",
      "Summary: The podcast covers various topics including extreme weather conditions, Coinbase's layoffs, Microsoft's relationship with OpenAI, climate technology, and a climate tech startup. It is sponsored by Vanta, Mixpanel, and Squarespace. The passage discusses the impact of heavy rain in the Bay Area, Coinbase's workforce reduction, and concerns about the crypto market. It also mentions the benefits of using Vanta for compliance, job opportunities in different industries, the AI startup bubble, and the acquisition of OpenAI by Microsoft. Additionally, it discusses the benefits of Squarespace for entrepreneurs and the growth of the solar energy industry. The passage also touches on geopolitical concerns, lithium-ion battery recycling, and the positive performance of a sub stock founder.\n",
      "\n",
      "Video 3\n",
      "Title: Logan Paul & CryptoZoo’s alleged scam breakdown with Coffeezilla + OK Boomer with Em Herrera\n",
      "View Count: 14866\n",
      "Summary: The summary discusses an upcoming episode of the podcast \"This Week in Startups\" where the host, Jason Calacanis, will be joined by Coffeezilla, a famous YouTuber and investigative journalist. They will discuss the alleged scam involving Crypto Zoo and Logan Paul. Coffeezilla's channel focuses on exposing scams, particularly in the online creator ecosystem. The summary also touches on the controversy surrounding Logan Paul's involvement in the failed NFT project and the responsibility he bears for misleading investors. Additionally, it mentions the importance of vetting teams behind crypto and NFT projects, the consequences of SEC fines, and the need for personal cyber security. The summary concludes by mentioning the speaker's own podcast that focuses on the balance of wellness and personal relationships with technology.\n",
      "\n",
      "Video 4\n",
      "Title: Bing dodges $100B bullet & IVP's Tom Loverro on the looming startup collapse\n",
      "View Count: 20538\n",
      "Summary: The podcast episode covers a range of topics, including concerns about the privacy and security of personal health data, the challenges faced by startups in fundraising and investment, the importance of governance and engaged boards, the impact of layoffs and difficult periods on companies, the importance of focusing on core survival and sustainability, and the qualities of great founders and investors. The episode also mentions various promotions and advertisements for Squarespace, Fitbot, and a macadamia nut business. The episode ends with a preview of the next episode featuring investor Devin Pereck.\n",
      "\n",
      "\n",
      "Given the above High_Engagement_Videos and Low_Engagement_Videos, generate new ideas and themes.\n",
      "New ideas should be related to the High_Engagement_Videos by keeping the titles and summaries of the episodes in context and must be based onthe common patterns between the High_Engagement_Videos and the guests in those episodes.The new videos should not have any content from Low_Engagement_Videos.Make sure to not include any speaker name in your suggested video topics or themes.\n",
      "Make sure to return at least 10 new ideas. Your response must be a csv file which contains the following columns:Topic, Theme, Summary. Summary should contain points to talk on the show and must be 100 words at max. Use | as a seperatorand do not append any extra line in your csv response. Each row must have proper data and columns in each row must be three.\n",
      "If you don't know the answer, just say \"Hmm, I'm not sure.\"Don't try to make up an answer. \n",
      "\u001B[0m\n"
     ]
    },
    {
     "name": "stdout",
     "output_type": "stream",
     "text": [
      "\n",
      "\u001B[1m> Finished chain.\u001B[0m\n"
     ]
    }
   ],
   "source": [
    "response = ideas_chain.run(\n",
    "    {\n",
    "        \"high_engagement_videos\": high_eng_prompt,\n",
    "        \"low_engagement_videos\": low_eng_prompt,\n",
    "    }\n",
    ")"
   ]
  },
  {
   "cell_type": "code",
   "execution_count": 12,
   "metadata": {
    "pycharm": {
     "name": "#%%\n"
    }
   },
   "outputs": [
    {
     "data": {
      "text/plain": [
       "'Topic,Theme,Summary\\n1,The Future of AI in Entertainment,Explore the potential impact of AI on the entertainment industry and its various aspects such as writing, music generation, and podcasting. Discuss the challenges and opportunities AI presents for writers, musicians, and podcast hosts. Highlight the benefits and limitations of using AI tools in creative processes. Analyze the implications of AI on employment and job opportunities in the industry. Examine the role of streaming platforms and social media in shaping the future of entertainment. | Discuss the potential of AI in revolutionizing the entertainment industry and its impact on various creative processes. Analyze the challenges and opportunities AI presents for writers, musicians, and podcast hosts. Explore the implications of AI on employment in the industry and the role of streaming platforms and social media in shaping the future of entertainment.\\n2,The Ethics of AI,Delve into the ethical considerations surrounding the use of AI in various industries, including entertainment. Discuss the potential biases and ethical dilemmas that arise when AI is involved in creative processes. Examine the responsibility of AI developers and users in ensuring fairness, transparency, and accountability. Explore the implications of AI on privacy, security, and data protection. Analyze the legal and regulatory frameworks needed to govern the use of AI in entertainment. | Explore the ethical considerations surrounding the use of AI in entertainment and its potential biases. Discuss the responsibility of AI developers and users in ensuring fairness, transparency, and accountability. Examine the implications of AI on privacy, security, and data protection. Analyze the legal and regulatory frameworks needed to govern the use of AI in the entertainment industry.\\n3,The Impact of Technology on Employment,Examine the impact of technology, including AI, on employment in various industries. Discuss the potential opportunities and challenges posed by automation and AI in the job market. Analyze the skills and roles that may be affected or created by technological advancements. Explore strategies for individuals and organizations to adapt and thrive in a technology-driven economy. Discuss the importance of upskilling, reskilling, and lifelong learning in the face of technological disruptions. | Examine the impact of technology, including AI, on employment in different industries. Discuss the potential opportunities and challenges posed by automation and AI in the job market. Analyze the skills and roles that may be affected or created by technological advancements. Explore strategies for individuals and organizations to adapt and thrive in a technology-driven economy.\\n4,The Future of Podcasting,Explore the evolving landscape of podcasting and the role of AI in its future. Discuss the potential use of AI in podcast hosting, editing, and content generation. Analyze the impact of AI on audience engagement, discoverability, and monetization in the podcasting industry. Explore the challenges and opportunities faced by podcasters in an increasingly competitive market. Discuss the importance of storytelling, authenticity, and niche content in podcasting. | Explore the future of podcasting and the potential use of AI in various aspects of podcast production. Discuss the impact of AI on audience engagement, discoverability, and monetization in the podcasting industry. Analyze the challenges and opportunities faced by podcasters in an increasingly competitive market. Discuss the importance of storytelling, authenticity, and niche content in podcasting.\\n5,The Role of Social Media in Entertainment,Discuss the influence of social media platforms on the entertainment industry. Analyze the impact of platforms like TikTok on content creation, audience engagement, and mental health. Explore the challenges and opportunities for creators in leveraging social media for promotion and monetization. Discuss the ethical considerations and potential risks of excessive smartphone use and social media addiction. Analyze the strategies for maintaining a healthy balance between social media presence and mental well-being. | Discuss the influence of social media platforms on the entertainment industry, including the impact of TikTok on content creation, audience engagement, and mental health. Explore the challenges and opportunities for creators in leveraging social media for promotion and monetization. Discuss the ethical considerations and potential risks of excessive smartphone use and social media addiction. Analyze the strategies for maintaining a healthy balance between social media presence and mental well-being.\\n6,The Future of Streaming Platforms,Examine the future of streaming platforms in the entertainment industry. Discuss the impact of platforms like HBO Max on content creation, distribution, and audience preferences. Analyze the challenges and opportunities for traditional media companies in adapting to the streaming era. Explore the potential of AI in personalizing and improving the streaming experience. Discuss the implications of streaming platforms on the diversity and accessibility of content. | Examine the future of streaming platforms in the entertainment industry, including the impact of platforms like HBO Max on content creation, distribution, and audience preferences. Analyze the challenges and opportunities for traditional media companies in adapting to the streaming era. Explore the potential of AI in personalizing and improving the streaming experience. Discuss the implications of streaming platforms on the diversity and accessibility of content.\\n7,The Role of AI in Music Generation,Explore the use of AI in music composition, production, and discovery. Discuss the potential of AI to revolutionize the music industry and create new opportunities for artists. Analyze the challenges and ethical considerations in using AI-generated music. Discuss the impact of AI on the creative process, copyright issues, and the role of human musicians. Explore the implications of AI in music recommendation algorithms and personalized music experiences. | Explore the use of AI in music composition, production, and discovery. Discuss the potential of AI to revolutionize the music industry and create new opportunities for artists. Analyze the challenges and ethical considerations in using AI-generated music. Discuss the impact of AI on the creative process, copyright issues, and the role of human musicians. Explore the implications of AI in music recommendation algorithms and personalized music experiences.\\n8,The Use of AI in Content Creation,Discuss the use of AI in content creation across various media formats. Explore the potential of AI in generating scripts, articles, and video content. Analyze the benefits and limitations of AI-generated content in terms of quality, creativity, and authenticity. Discuss the role of human input and curation in AI-assisted content creation. Examine the implications of AI on the future of journalism, storytelling, and creative industries. | Discuss the use of AI in content creation across various media formats, including the potential of AI in generating scripts, articles, and video content. Analyze the benefits and limitations of AI-generated content in terms of quality, creativity, and authenticity. Discuss the role of human input and curation in AI-assisted content creation. Examine the implications of AI on the future of journalism, storytelling, and creative industries.\\n9,The Impact of AI on Marketing and Advertising,Explore the role of AI in marketing and advertising strategies. Discuss the potential of AI in personalized marketing campaigns, customer segmentation, and targeting. Analyze the ethical considerations and challenges in using AI for data-driven advertising. Discuss the implications of AI on consumer behavior, privacy, and the future of advertising. Explore the benefits and limitations of AI in optimizing marketing ROI and campaign effectiveness. | Explore the role of AI in marketing and advertising strategies. Discuss the potential of AI in personalized marketing campaigns, customer segmentation, and targeting. Analyze the ethical considerations and challenges in using AI for data-driven advertising. Discuss the implications of AI on consumer behavior, privacy, and the future of advertising. Explore the benefits and limitations of AI in optimizing marketing ROI and campaign effectiveness.\\n10,The Future of AI in Customer Service,Discuss the potential of AI in revolutionizing customer service and support. Explore the use of AI chatbots, voice assistants, and natural language processing in enhancing customer experiences. Analyze the challenges and ethical considerations in implementing AI-driven customer service solutions. Discuss the role of human empathy and emotional intelligence in customer interactions. Explore the implications of AI on job roles and employment in customer service. Discuss the importance of transparency and accountability in AI-driven customer service systems. | Discuss the potential of AI in revolutionizing customer service and support. Explore the use of AI chatbots, voice assistants, and natural language processing in enhancing customer experiences. Analyze the challenges and ethical considerations in implementing AI-driven customer service solutions. Discuss the role of human empathy and emotional intelligence in customer interactions. Explore the implications of AI on job roles and employment in customer service. Discuss the importance of transparency and accountability in AI-driven customer service systems.'"
      ]
     },
     "execution_count": 12,
     "metadata": {},
     "output_type": "execute_result"
    }
   ],
   "source": [
    "response"
   ]
  },
  {
   "cell_type": "code",
   "execution_count": 13,
   "metadata": {
    "pycharm": {
     "name": "#%%\n"
    }
   },
   "outputs": [],
   "source": [
    "import pandas as pd\n",
    "from io import StringIO\n",
    "\n",
    "csv_file = StringIO(response)\n",
    "# Read the CSV data and create a DataFrame\n",
    "df = pd.read_csv(csv_file, sep=\"|\")"
   ]
  }
 ],
 "metadata": {
  "kernelspec": {
   "display_name": "Python 3 (ipykernel)",
   "language": "python",
   "name": "python3"
  },
  "language_info": {
   "codemirror_mode": {
    "name": "ipython",
    "version": 3
   },
   "file_extension": ".py",
   "mimetype": "text/x-python",
   "name": "python",
   "nbconvert_exporter": "python",
   "pygments_lexer": "ipython3",
   "version": "3.8.16"
  }
 },
 "nbformat": 4,
 "nbformat_minor": 2
}