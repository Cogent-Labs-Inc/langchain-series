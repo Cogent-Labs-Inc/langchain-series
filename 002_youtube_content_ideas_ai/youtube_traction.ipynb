{
 "cells": [
  {
   "cell_type": "markdown",
   "metadata": {
    "pycharm": {
     "name": "#%% md\n"
    }
   },
   "source": [
    "# AI in Content Generation: Youtube Ideas from historical content performance\n",
    "\n",
    "\n",
    "## Channel: This Week in Startups"
   ]
  },
  {
   "cell_type": "markdown",
   "metadata": {
    "pycharm": {
     "name": "#%% md\n"
    }
   },
   "source": [
    "The provided code is a class called \"Summarizer\" that uses the Langchain library to summarize YouTube videos. It has the following key functionalities:\n",
    "\n",
    "Loading Data: The \\_load_data() method utilizes the YoutubeLoader class from the Langchain library to load YouTube video data, including the video's content and metadata.\n",
    "\n",
    "Chunking Data: The create_chunks() method splits the video content into smaller text chunks using the RecursiveCharacterTextSplitter class. This helps in processing large text inputs more efficiently.\n",
    "\n",
    "Summarizing: The summarize() method initializes a summarization chain from the Langchain library using the load_summarize_chain() function. It then asynchronously runs the summarization chain on the text chunks generated earlier using the \\_chain_run() method. The summary result is collected and returned along with the video metadata.\n",
    "\n",
    "Overall, this code provides a convenient way to summarize YouTube videos by leveraging Langchain's text processing capabilities.\n",
    "\n",
    "Don't forget to install the required packages specified in `requirements.txt` file, before executing the script."
   ]
  },
  {
   "cell_type": "code",
   "execution_count": 1,
   "metadata": {
    "pycharm": {
     "name": "#%%\n"
    }
   },
   "outputs": [],
   "source": [
    "import asyncio\n",
    "from langchain.chat_models import ChatOpenAI\n",
    "from langchain.chains.summarize import load_summarize_chain\n",
    "from langchain.text_splitter import RecursiveCharacterTextSplitter\n",
    "from langchain.document_loaders import YoutubeLoader\n",
    "\n",
    "import pandas as pd\n",
    "\n",
    "\n",
    "class Summarizer:\n",
    "    def __init__(self, url, llm):\n",
    "        self.url = url\n",
    "        self.llm = llm\n",
    "        self.doc_chunks = []\n",
    "        self.metadata = []\n",
    "\n",
    "    def _load_data(self):\n",
    "        loader = YoutubeLoader.from_youtube_url(self.url, add_video_info=True)\n",
    "\n",
    "        return loader.load()\n",
    "\n",
    "    def create_chunks(self):\n",
    "        text_splitter = RecursiveCharacterTextSplitter(\n",
    "            chunk_size=3500,\n",
    "            chunk_overlap=20,\n",
    "            length_function=len,\n",
    "        )\n",
    "        text = self._load_data()\n",
    "        self.doc_chunks = text_splitter.create_documents(\n",
    "            [doc.page_content for doc in text]\n",
    "        )\n",
    "        self.metadata = text[0].metadata\n",
    "\n",
    "        return\n",
    "\n",
    "    async def _chain_run(self, chain, docs):\n",
    "        return await chain.arun(docs)\n",
    "\n",
    "    async def summarize(self):\n",
    "        summarizer_chain = load_summarize_chain(llm=self.llm, chain_type=\"map_reduce\")\n",
    "        tasks = [self._chain_run(summarizer_chain, self.doc_chunks)]\n",
    "        summary = await asyncio.gather(*tasks)\n",
    "\n",
    "        return {\"summary\": summary[0], \"metadata\": self.metadata}"
   ]
  },
  {
   "cell_type": "code",
   "execution_count": 2,
   "metadata": {
    "pycharm": {
     "name": "#%%\n"
    }
   },
   "outputs": [],
   "source": [
    "import concurrent.futures\n",
    "import asyncio\n",
    "import time\n",
    "\n",
    "\n",
    "def process_summary(url):\n",
    "    llm = ChatOpenAI(model=\"gpt-3.5-turbo\", temperature=0.5)\n",
    "    summarizer = Summarizer(url, llm)\n",
    "    summarizer.create_chunks()\n",
    "\n",
    "    return asyncio.run(summarizer.summarize())\n",
    "\n",
    "\n",
    "def pool_executor(urls):\n",
    "    results = []\n",
    "\n",
    "    with concurrent.futures.ThreadPoolExecutor() as executor:\n",
    "        # Submit each URL to the executor\n",
    "        futures = [executor.submit(process_summary, url) for url in urls]\n",
    "\n",
    "        # Wait for all futures to complete\n",
    "        for future in concurrent.futures.as_completed(futures):\n",
    "            try:\n",
    "                result = future.result()\n",
    "                results.append(result)\n",
    "            except Exception as e:\n",
    "                print(f\"Error processing URL: {e}\")\n",
    "\n",
    "    return results"
   ]
  },
  {
   "cell_type": "code",
   "execution_count": 3,
   "metadata": {
    "pycharm": {
     "name": "#%%\n"
    }
   },
   "outputs": [
    {
     "name": "stderr",
     "output_type": "stream",
     "text": [
      "Retrying langchain.chat_models.openai.acompletion_with_retry.<locals>._completion_with_retry in 1.0 seconds as it raised ServiceUnavailableError: The server is overloaded or not ready yet..\n",
      "Retrying langchain.chat_models.openai.acompletion_with_retry.<locals>._completion_with_retry in 1.0 seconds as it raised ServiceUnavailableError: The server is overloaded or not ready yet..\n",
      "Retrying langchain.chat_models.openai.acompletion_with_retry.<locals>._completion_with_retry in 1.0 seconds as it raised ServiceUnavailableError: The server is overloaded or not ready yet..\n",
      "Retrying langchain.chat_models.openai.acompletion_with_retry.<locals>._completion_with_retry in 1.0 seconds as it raised ServiceUnavailableError: The server is overloaded or not ready yet..\n",
      "Retrying langchain.chat_models.openai.acompletion_with_retry.<locals>._completion_with_retry in 1.0 seconds as it raised RateLimitError: Rate limit reached for default-gpt-3.5-turbo in organization org-ZMYqvRsyrZeVCAGtcdg16fJA on tokens per min. Limit: 90000 / min. Current: 89692 / min. Contact us through our help center at help.openai.com if you continue to have issues..\n",
      "Retrying langchain.chat_models.openai.acompletion_with_retry.<locals>._completion_with_retry in 1.0 seconds as it raised RateLimitError: Rate limit reached for default-gpt-3.5-turbo in organization org-ZMYqvRsyrZeVCAGtcdg16fJA on tokens per min. Limit: 90000 / min. Current: 89691 / min. Contact us through our help center at help.openai.com if you continue to have issues..\n",
      "Retrying langchain.chat_models.openai.acompletion_with_retry.<locals>._completion_with_retry in 1.0 seconds as it raised RateLimitError: Rate limit reached for default-gpt-3.5-turbo in organization org-ZMYqvRsyrZeVCAGtcdg16fJA on tokens per min. Limit: 90000 / min. Current: 89684 / min. Contact us through our help center at help.openai.com if you continue to have issues..\n",
      "Retrying langchain.chat_models.openai.acompletion_with_retry.<locals>._completion_with_retry in 1.0 seconds as it raised RateLimitError: Rate limit reached for default-gpt-3.5-turbo in organization org-ZMYqvRsyrZeVCAGtcdg16fJA on tokens per min. Limit: 90000 / min. Current: 89685 / min. Contact us through our help center at help.openai.com if you continue to have issues..\n",
      "Retrying langchain.chat_models.openai.acompletion_with_retry.<locals>._completion_with_retry in 1.0 seconds as it raised RateLimitError: Rate limit reached for default-gpt-3.5-turbo in organization org-ZMYqvRsyrZeVCAGtcdg16fJA on tokens per min. Limit: 90000 / min. Current: 89675 / min. Contact us through our help center at help.openai.com if you continue to have issues..\n",
      "Retrying langchain.chat_models.openai.acompletion_with_retry.<locals>._completion_with_retry in 1.0 seconds as it raised RateLimitError: Rate limit reached for default-gpt-3.5-turbo in organization org-ZMYqvRsyrZeVCAGtcdg16fJA on tokens per min. Limit: 90000 / min. Current: 89675 / min. Contact us through our help center at help.openai.com if you continue to have issues..\n",
      "Retrying langchain.chat_models.openai.acompletion_with_retry.<locals>._completion_with_retry in 1.0 seconds as it raised RateLimitError: Rate limit reached for default-gpt-3.5-turbo in organization org-ZMYqvRsyrZeVCAGtcdg16fJA on tokens per min. Limit: 90000 / min. Current: 89680 / min. Contact us through our help center at help.openai.com if you continue to have issues..\n",
      "Retrying langchain.chat_models.openai.acompletion_with_retry.<locals>._completion_with_retry in 1.0 seconds as it raised RateLimitError: Rate limit reached for default-gpt-3.5-turbo in organization org-ZMYqvRsyrZeVCAGtcdg16fJA on tokens per min. Limit: 90000 / min. Current: 89678 / min. Contact us through our help center at help.openai.com if you continue to have issues..\n",
      "Retrying langchain.chat_models.openai.acompletion_with_retry.<locals>._completion_with_retry in 1.0 seconds as it raised RateLimitError: Rate limit reached for default-gpt-3.5-turbo in organization org-ZMYqvRsyrZeVCAGtcdg16fJA on tokens per min. Limit: 90000 / min. Current: 89669 / min. Contact us through our help center at help.openai.com if you continue to have issues..\n",
      "Retrying langchain.chat_models.openai.acompletion_with_retry.<locals>._completion_with_retry in 1.0 seconds as it raised RateLimitError: Rate limit reached for default-gpt-3.5-turbo in organization org-ZMYqvRsyrZeVCAGtcdg16fJA on tokens per min. Limit: 90000 / min. Current: 89666 / min. Contact us through our help center at help.openai.com if you continue to have issues..\n",
      "Retrying langchain.chat_models.openai.acompletion_with_retry.<locals>._completion_with_retry in 1.0 seconds as it raised RateLimitError: Rate limit reached for default-gpt-3.5-turbo in organization org-ZMYqvRsyrZeVCAGtcdg16fJA on tokens per min. Limit: 90000 / min. Current: 89654 / min. Contact us through our help center at help.openai.com if you continue to have issues..\n",
      "Retrying langchain.chat_models.openai.acompletion_with_retry.<locals>._completion_with_retry in 1.0 seconds as it raised RateLimitError: Rate limit reached for default-gpt-3.5-turbo in organization org-ZMYqvRsyrZeVCAGtcdg16fJA on tokens per min. Limit: 90000 / min. Current: 89650 / min. Contact us through our help center at help.openai.com if you continue to have issues..\n",
      "Retrying langchain.chat_models.openai.acompletion_with_retry.<locals>._completion_with_retry in 1.0 seconds as it raised RateLimitError: Rate limit reached for default-gpt-3.5-turbo in organization org-ZMYqvRsyrZeVCAGtcdg16fJA on tokens per min. Limit: 90000 / min. Current: 89630 / min. Contact us through our help center at help.openai.com if you continue to have issues..\n",
      "Retrying langchain.chat_models.openai.acompletion_with_retry.<locals>._completion_with_retry in 1.0 seconds as it raised RateLimitError: Rate limit reached for default-gpt-3.5-turbo in organization org-ZMYqvRsyrZeVCAGtcdg16fJA on tokens per min. Limit: 90000 / min. Current: 89648 / min. Contact us through our help center at help.openai.com if you continue to have issues..\n",
      "Retrying langchain.chat_models.openai.acompletion_with_retry.<locals>._completion_with_retry in 1.0 seconds as it raised RateLimitError: Rate limit reached for default-gpt-3.5-turbo in organization org-ZMYqvRsyrZeVCAGtcdg16fJA on tokens per min. Limit: 90000 / min. Current: 89632 / min. Contact us through our help center at help.openai.com if you continue to have issues..\n",
      "Retrying langchain.chat_models.openai.acompletion_with_retry.<locals>._completion_with_retry in 1.0 seconds as it raised RateLimitError: Rate limit reached for default-gpt-3.5-turbo in organization org-ZMYqvRsyrZeVCAGtcdg16fJA on tokens per min. Limit: 90000 / min. Current: 89628 / min. Contact us through our help center at help.openai.com if you continue to have issues..\n",
      "Retrying langchain.chat_models.openai.acompletion_with_retry.<locals>._completion_with_retry in 1.0 seconds as it raised RateLimitError: Rate limit reached for default-gpt-3.5-turbo in organization org-ZMYqvRsyrZeVCAGtcdg16fJA on tokens per min. Limit: 90000 / min. Current: 89654 / min. Contact us through our help center at help.openai.com if you continue to have issues..\n",
      "Retrying langchain.chat_models.openai.acompletion_with_retry.<locals>._completion_with_retry in 2.0 seconds as it raised RateLimitError: Rate limit reached for default-gpt-3.5-turbo in organization org-ZMYqvRsyrZeVCAGtcdg16fJA on tokens per min. Limit: 90000 / min. Current: 89137 / min. Contact us through our help center at help.openai.com if you continue to have issues..\n",
      "Retrying langchain.chat_models.openai.acompletion_with_retry.<locals>._completion_with_retry in 2.0 seconds as it raised RateLimitError: Rate limit reached for default-gpt-3.5-turbo in organization org-ZMYqvRsyrZeVCAGtcdg16fJA on tokens per min. Limit: 90000 / min. Current: 89153 / min. Contact us through our help center at help.openai.com if you continue to have issues..\n",
      "Retrying langchain.chat_models.openai.acompletion_with_retry.<locals>._completion_with_retry in 2.0 seconds as it raised RateLimitError: Rate limit reached for default-gpt-3.5-turbo in organization org-ZMYqvRsyrZeVCAGtcdg16fJA on tokens per min. Limit: 90000 / min. Current: 89102 / min. Contact us through our help center at help.openai.com if you continue to have issues..\n"
     ]
    },
    {
     "name": "stderr",
     "output_type": "stream",
     "text": [
      "Retrying langchain.chat_models.openai.acompletion_with_retry.<locals>._completion_with_retry in 2.0 seconds as it raised RateLimitError: Rate limit reached for default-gpt-3.5-turbo in organization org-ZMYqvRsyrZeVCAGtcdg16fJA on tokens per min. Limit: 90000 / min. Current: 89096 / min. Contact us through our help center at help.openai.com if you continue to have issues..\n",
      "Retrying langchain.chat_models.openai.acompletion_with_retry.<locals>._completion_with_retry in 2.0 seconds as it raised RateLimitError: Rate limit reached for default-gpt-3.5-turbo in organization org-ZMYqvRsyrZeVCAGtcdg16fJA on tokens per min. Limit: 90000 / min. Current: 89975 / min. Contact us through our help center at help.openai.com if you continue to have issues..\n",
      "Retrying langchain.chat_models.openai.acompletion_with_retry.<locals>._completion_with_retry in 2.0 seconds as it raised RateLimitError: Rate limit reached for default-gpt-3.5-turbo in organization org-ZMYqvRsyrZeVCAGtcdg16fJA on tokens per min. Limit: 90000 / min. Current: 89969 / min. Contact us through our help center at help.openai.com if you continue to have issues..\n",
      "Retrying langchain.chat_models.openai.acompletion_with_retry.<locals>._completion_with_retry in 2.0 seconds as it raised RateLimitError: Rate limit reached for default-gpt-3.5-turbo in organization org-ZMYqvRsyrZeVCAGtcdg16fJA on tokens per min. Limit: 90000 / min. Current: 89967 / min. Contact us through our help center at help.openai.com if you continue to have issues..\n",
      "Retrying langchain.chat_models.openai.acompletion_with_retry.<locals>._completion_with_retry in 2.0 seconds as it raised RateLimitError: Rate limit reached for default-gpt-3.5-turbo in organization org-ZMYqvRsyrZeVCAGtcdg16fJA on tokens per min. Limit: 90000 / min. Current: 89968 / min. Contact us through our help center at help.openai.com if you continue to have issues..\n",
      "Retrying langchain.chat_models.openai.acompletion_with_retry.<locals>._completion_with_retry in 2.0 seconds as it raised RateLimitError: Rate limit reached for default-gpt-3.5-turbo in organization org-ZMYqvRsyrZeVCAGtcdg16fJA on tokens per min. Limit: 90000 / min. Current: 89966 / min. Contact us through our help center at help.openai.com if you continue to have issues..\n",
      "Retrying langchain.chat_models.openai.acompletion_with_retry.<locals>._completion_with_retry in 2.0 seconds as it raised RateLimitError: Rate limit reached for default-gpt-3.5-turbo in organization org-ZMYqvRsyrZeVCAGtcdg16fJA on tokens per min. Limit: 90000 / min. Current: 89963 / min. Contact us through our help center at help.openai.com if you continue to have issues..\n",
      "Retrying langchain.chat_models.openai.acompletion_with_retry.<locals>._completion_with_retry in 2.0 seconds as it raised RateLimitError: Rate limit reached for default-gpt-3.5-turbo in organization org-ZMYqvRsyrZeVCAGtcdg16fJA on tokens per min. Limit: 90000 / min. Current: 89963 / min. Contact us through our help center at help.openai.com if you continue to have issues..\n",
      "Retrying langchain.chat_models.openai.acompletion_with_retry.<locals>._completion_with_retry in 2.0 seconds as it raised RateLimitError: Rate limit reached for default-gpt-3.5-turbo in organization org-ZMYqvRsyrZeVCAGtcdg16fJA on tokens per min. Limit: 90000 / min. Current: 89962 / min. Contact us through our help center at help.openai.com if you continue to have issues..\n",
      "Retrying langchain.chat_models.openai.acompletion_with_retry.<locals>._completion_with_retry in 2.0 seconds as it raised RateLimitError: Rate limit reached for default-gpt-3.5-turbo in organization org-ZMYqvRsyrZeVCAGtcdg16fJA on tokens per min. Limit: 90000 / min. Current: 89955 / min. Contact us through our help center at help.openai.com if you continue to have issues..\n",
      "Retrying langchain.chat_models.openai.acompletion_with_retry.<locals>._completion_with_retry in 2.0 seconds as it raised RateLimitError: Rate limit reached for default-gpt-3.5-turbo in organization org-ZMYqvRsyrZeVCAGtcdg16fJA on tokens per min. Limit: 90000 / min. Current: 89953 / min. Contact us through our help center at help.openai.com if you continue to have issues..\n",
      "Retrying langchain.chat_models.openai.acompletion_with_retry.<locals>._completion_with_retry in 2.0 seconds as it raised RateLimitError: Rate limit reached for default-gpt-3.5-turbo in organization org-ZMYqvRsyrZeVCAGtcdg16fJA on tokens per min. Limit: 90000 / min. Current: 89948 / min. Contact us through our help center at help.openai.com if you continue to have issues..\n",
      "Retrying langchain.chat_models.openai.acompletion_with_retry.<locals>._completion_with_retry in 4.0 seconds as it raised RateLimitError: Rate limit reached for default-gpt-3.5-turbo in organization org-ZMYqvRsyrZeVCAGtcdg16fJA on tokens per min. Limit: 90000 / min. Current: 89771 / min. Contact us through our help center at help.openai.com if you continue to have issues..\n",
      "Retrying langchain.chat_models.openai.acompletion_with_retry.<locals>._completion_with_retry in 4.0 seconds as it raised RateLimitError: Rate limit reached for default-gpt-3.5-turbo in organization org-ZMYqvRsyrZeVCAGtcdg16fJA on tokens per min. Limit: 90000 / min. Current: 89730 / min. Contact us through our help center at help.openai.com if you continue to have issues..\n",
      "Retrying langchain.chat_models.openai.acompletion_with_retry.<locals>._completion_with_retry in 4.0 seconds as it raised RateLimitError: Rate limit reached for default-gpt-3.5-turbo in organization org-ZMYqvRsyrZeVCAGtcdg16fJA on tokens per min. Limit: 90000 / min. Current: 89728 / min. Contact us through our help center at help.openai.com if you continue to have issues..\n",
      "Retrying langchain.chat_models.openai.acompletion_with_retry.<locals>._completion_with_retry in 4.0 seconds as it raised RateLimitError: Rate limit reached for default-gpt-3.5-turbo in organization org-ZMYqvRsyrZeVCAGtcdg16fJA on tokens per min. Limit: 90000 / min. Current: 89723 / min. Contact us through our help center at help.openai.com if you continue to have issues..\n",
      "Retrying langchain.chat_models.openai.acompletion_with_retry.<locals>._completion_with_retry in 4.0 seconds as it raised RateLimitError: Rate limit reached for default-gpt-3.5-turbo in organization org-ZMYqvRsyrZeVCAGtcdg16fJA on tokens per min. Limit: 90000 / min. Current: 89721 / min. Contact us through our help center at help.openai.com if you continue to have issues..\n",
      "Retrying langchain.chat_models.openai.acompletion_with_retry.<locals>._completion_with_retry in 4.0 seconds as it raised RateLimitError: Rate limit reached for default-gpt-3.5-turbo in organization org-ZMYqvRsyrZeVCAGtcdg16fJA on tokens per min. Limit: 90000 / min. Current: 89716 / min. Contact us through our help center at help.openai.com if you continue to have issues..\n",
      "Retrying langchain.chat_models.openai.acompletion_with_retry.<locals>._completion_with_retry in 4.0 seconds as it raised RateLimitError: Rate limit reached for default-gpt-3.5-turbo in organization org-ZMYqvRsyrZeVCAGtcdg16fJA on tokens per min. Limit: 90000 / min. Current: 89710 / min. Contact us through our help center at help.openai.com if you continue to have issues..\n",
      "Retrying langchain.chat_models.openai.acompletion_with_retry.<locals>._completion_with_retry in 4.0 seconds as it raised RateLimitError: Rate limit reached for default-gpt-3.5-turbo in organization org-ZMYqvRsyrZeVCAGtcdg16fJA on tokens per min. Limit: 90000 / min. Current: 89709 / min. Contact us through our help center at help.openai.com if you continue to have issues..\n",
      "Retrying langchain.chat_models.openai.acompletion_with_retry.<locals>._completion_with_retry in 4.0 seconds as it raised RateLimitError: Rate limit reached for default-gpt-3.5-turbo in organization org-ZMYqvRsyrZeVCAGtcdg16fJA on tokens per min. Limit: 90000 / min. Current: 89692 / min. Contact us through our help center at help.openai.com if you continue to have issues..\n",
      "Retrying langchain.chat_models.openai.acompletion_with_retry.<locals>._completion_with_retry in 4.0 seconds as it raised RateLimitError: Rate limit reached for default-gpt-3.5-turbo in organization org-ZMYqvRsyrZeVCAGtcdg16fJA on tokens per min. Limit: 90000 / min. Current: 89693 / min. Contact us through our help center at help.openai.com if you continue to have issues..\n"
     ]
    },
    {
     "name": "stderr",
     "output_type": "stream",
     "text": [
      "Retrying langchain.chat_models.openai.acompletion_with_retry.<locals>._completion_with_retry in 4.0 seconds as it raised RateLimitError: Rate limit reached for default-gpt-3.5-turbo in organization org-ZMYqvRsyrZeVCAGtcdg16fJA on tokens per min. Limit: 90000 / min. Current: 89692 / min. Contact us through our help center at help.openai.com if you continue to have issues..\n",
      "Retrying langchain.chat_models.openai.acompletion_with_retry.<locals>._completion_with_retry in 4.0 seconds as it raised RateLimitError: Rate limit reached for default-gpt-3.5-turbo in organization org-ZMYqvRsyrZeVCAGtcdg16fJA on tokens per min. Limit: 90000 / min. Current: 89689 / min. Contact us through our help center at help.openai.com if you continue to have issues..\n",
      "Retrying langchain.chat_models.openai.ChatOpenAI.completion_with_retry.<locals>._completion_with_retry in 1.0 seconds as it raised RateLimitError: Rate limit reached for default-gpt-3.5-turbo in organization org-ZMYqvRsyrZeVCAGtcdg16fJA on tokens per min. Limit: 90000 / min. Current: 89619 / min. Contact us through our help center at help.openai.com if you continue to have issues..\n",
      "Retrying langchain.chat_models.openai.ChatOpenAI.completion_with_retry.<locals>._completion_with_retry in 2.0 seconds as it raised RateLimitError: Rate limit reached for default-gpt-3.5-turbo in organization org-ZMYqvRsyrZeVCAGtcdg16fJA on tokens per min. Limit: 90000 / min. Current: 87531 / min. Contact us through our help center at help.openai.com if you continue to have issues..\n",
      "Retrying langchain.chat_models.openai.ChatOpenAI.completion_with_retry.<locals>._completion_with_retry in 1.0 seconds as it raised RateLimitError: Rate limit reached for default-gpt-3.5-turbo in organization org-ZMYqvRsyrZeVCAGtcdg16fJA on tokens per min. Limit: 90000 / min. Current: 86526 / min. Contact us through our help center at help.openai.com if you continue to have issues..\n",
      "Retrying langchain.chat_models.openai.ChatOpenAI.completion_with_retry.<locals>._completion_with_retry in 2.0 seconds as it raised RateLimitError: Rate limit reached for default-gpt-3.5-turbo in organization org-ZMYqvRsyrZeVCAGtcdg16fJA on tokens per min. Limit: 90000 / min. Current: 87830 / min. Contact us through our help center at help.openai.com if you continue to have issues..\n",
      "Retrying langchain.chat_models.openai.ChatOpenAI.completion_with_retry.<locals>._completion_with_retry in 4.0 seconds as it raised RateLimitError: Rate limit reached for default-gpt-3.5-turbo in organization org-ZMYqvRsyrZeVCAGtcdg16fJA on tokens per min. Limit: 90000 / min. Current: 87364 / min. Contact us through our help center at help.openai.com if you continue to have issues..\n",
      "Retrying langchain.chat_models.openai.acompletion_with_retry.<locals>._completion_with_retry in 8.0 seconds as it raised RateLimitError: Rate limit reached for default-gpt-3.5-turbo in organization org-ZMYqvRsyrZeVCAGtcdg16fJA on tokens per min. Limit: 90000 / min. Current: 89865 / min. Contact us through our help center at help.openai.com if you continue to have issues..\n",
      "Retrying langchain.chat_models.openai.acompletion_with_retry.<locals>._completion_with_retry in 8.0 seconds as it raised RateLimitError: Rate limit reached for default-gpt-3.5-turbo in organization org-ZMYqvRsyrZeVCAGtcdg16fJA on tokens per min. Limit: 90000 / min. Current: 89860 / min. Contact us through our help center at help.openai.com if you continue to have issues..\n",
      "Retrying langchain.chat_models.openai.acompletion_with_retry.<locals>._completion_with_retry in 8.0 seconds as it raised RateLimitError: Rate limit reached for default-gpt-3.5-turbo in organization org-ZMYqvRsyrZeVCAGtcdg16fJA on tokens per min. Limit: 90000 / min. Current: 89857 / min. Contact us through our help center at help.openai.com if you continue to have issues..\n",
      "Retrying langchain.chat_models.openai.acompletion_with_retry.<locals>._completion_with_retry in 8.0 seconds as it raised RateLimitError: Rate limit reached for default-gpt-3.5-turbo in organization org-ZMYqvRsyrZeVCAGtcdg16fJA on tokens per min. Limit: 90000 / min. Current: 89853 / min. Contact us through our help center at help.openai.com if you continue to have issues..\n",
      "Retrying langchain.chat_models.openai.acompletion_with_retry.<locals>._completion_with_retry in 8.0 seconds as it raised RateLimitError: Rate limit reached for default-gpt-3.5-turbo in organization org-ZMYqvRsyrZeVCAGtcdg16fJA on tokens per min. Limit: 90000 / min. Current: 89851 / min. Contact us through our help center at help.openai.com if you continue to have issues..\n",
      "Retrying langchain.chat_models.openai.acompletion_with_retry.<locals>._completion_with_retry in 8.0 seconds as it raised RateLimitError: Rate limit reached for default-gpt-3.5-turbo in organization org-ZMYqvRsyrZeVCAGtcdg16fJA on tokens per min. Limit: 90000 / min. Current: 89832 / min. Contact us through our help center at help.openai.com if you continue to have issues..\n",
      "Retrying langchain.chat_models.openai.acompletion_with_retry.<locals>._completion_with_retry in 8.0 seconds as it raised RateLimitError: Rate limit reached for default-gpt-3.5-turbo in organization org-ZMYqvRsyrZeVCAGtcdg16fJA on tokens per min. Limit: 90000 / min. Current: 89793 / min. Contact us through our help center at help.openai.com if you continue to have issues..\n",
      "Retrying langchain.chat_models.openai.acompletion_with_retry.<locals>._completion_with_retry in 8.0 seconds as it raised RateLimitError: Rate limit reached for default-gpt-3.5-turbo in organization org-ZMYqvRsyrZeVCAGtcdg16fJA on tokens per min. Limit: 90000 / min. Current: 89709 / min. Contact us through our help center at help.openai.com if you continue to have issues..\n",
      "Retrying langchain.chat_models.openai.ChatOpenAI.completion_with_retry.<locals>._completion_with_retry in 4.0 seconds as it raised RateLimitError: Rate limit reached for default-gpt-3.5-turbo in organization org-ZMYqvRsyrZeVCAGtcdg16fJA on tokens per min. Limit: 90000 / min. Current: 87860 / min. Contact us through our help center at help.openai.com if you continue to have issues..\n",
      "Retrying langchain.chat_models.openai.acompletion_with_retry.<locals>._completion_with_retry in 16.0 seconds as it raised RateLimitError: Rate limit reached for default-gpt-3.5-turbo in organization org-ZMYqvRsyrZeVCAGtcdg16fJA on tokens per min. Limit: 90000 / min. Current: 89290 / min. Contact us through our help center at help.openai.com if you continue to have issues..\n"
     ]
    }
   ],
   "source": [
    "high_engagement_vids_urls = [\n",
    "    \"https://www.youtube.com/watch?v=_8bMMqy37y8&ab_channel=ThisWeekinStartups\",\n",
    "    \"https://www.youtube.com/watch?v=1SWEF-lyW28&ab_channel=ThisWeekinStartups\",\n",
    "    \"https://www.youtube.com/watch?v=oc5tHbEK0IQ&ab_channel=ThisWeekinStartups\",\n",
    "    \"https://www.youtube.com/watch?v=jrd4snFDSVA&ab_channel=ThisWeekinStartups\",\n",
    "]\n",
    "\n",
    "low_engagement_vids_urls = [\n",
    "    \"https://www.youtube.com/watch?v=UeIV4KcSUlk\",\n",
    "    \"https://www.youtube.com/watch?v=hNcLMN_bZCM\",\n",
    "    \"https://www.youtube.com/watch?v=ANd4jPLnMAU\",\n",
    "    \"https://www.youtube.com/watch?v=J8YnxrGEzT4\",\n",
    "]\n",
    "\n",
    "high_engagement_summaries = pool_executor(high_engagement_vids_urls)\n",
    "\n",
    "low_engagement_summaries = pool_executor(low_engagement_vids_urls)"
   ]
  },
  {
   "cell_type": "code",
   "execution_count": 4,
   "metadata": {
    "pycharm": {
     "name": "#%%\n"
    }
   },
   "outputs": [
    {
     "data": {
      "text/html": [
       "<div>\n",
       "<style scoped>\n",
       "    .dataframe tbody tr th:only-of-type {\n",
       "        vertical-align: middle;\n",
       "    }\n",
       "\n",
       "    .dataframe tbody tr th {\n",
       "        vertical-align: top;\n",
       "    }\n",
       "\n",
       "    .dataframe thead th {\n",
       "        text-align: right;\n",
       "    }\n",
       "</style>\n",
       "<table border=\"1\" class=\"dataframe\">\n",
       "  <thead>\n",
       "    <tr style=\"text-align: right;\">\n",
       "      <th></th>\n",
       "      <th>summary</th>\n",
       "      <th>metadata</th>\n",
       "    </tr>\n",
       "  </thead>\n",
       "  <tbody>\n",
       "    <tr>\n",
       "      <th>0</th>\n",
       "      <td>The conversation between Jason Calacanis and B...</td>\n",
       "      <td>{'source': 'oc5tHbEK0IQ&amp;ab_channel=ThisWeekinS...</td>\n",
       "    </tr>\n",
       "    <tr>\n",
       "      <th>1</th>\n",
       "      <td>The summary covers various topics including th...</td>\n",
       "      <td>{'source': '_8bMMqy37y8&amp;ab_channel=ThisWeekinS...</td>\n",
       "    </tr>\n",
       "    <tr>\n",
       "      <th>2</th>\n",
       "      <td>The speaker discusses various topics related t...</td>\n",
       "      <td>{'source': '1SWEF-lyW28&amp;ab_channel=ThisWeekinS...</td>\n",
       "    </tr>\n",
       "    <tr>\n",
       "      <th>3</th>\n",
       "      <td>The summary discusses various topics including...</td>\n",
       "      <td>{'source': 'jrd4snFDSVA&amp;ab_channel=ThisWeekinS...</td>\n",
       "    </tr>\n",
       "  </tbody>\n",
       "</table>\n",
       "</div>"
      ],
      "text/plain": [
       "                                             summary   \n",
       "0  The conversation between Jason Calacanis and B...  \\\n",
       "1  The summary covers various topics including th...   \n",
       "2  The speaker discusses various topics related t...   \n",
       "3  The summary discusses various topics including...   \n",
       "\n",
       "                                            metadata  \n",
       "0  {'source': 'oc5tHbEK0IQ&ab_channel=ThisWeekinS...  \n",
       "1  {'source': '_8bMMqy37y8&ab_channel=ThisWeekinS...  \n",
       "2  {'source': '1SWEF-lyW28&ab_channel=ThisWeekinS...  \n",
       "3  {'source': 'jrd4snFDSVA&ab_channel=ThisWeekinS...  "
      ]
     },
     "execution_count": 4,
     "metadata": {},
     "output_type": "execute_result"
    }
   ],
   "source": [
    "high_eng_df = pd.DataFrame.from_records(high_engagement_summaries)\n",
    "high_eng_df"
   ]
  },
  {
   "cell_type": "code",
   "execution_count": 5,
   "metadata": {
    "pycharm": {
     "name": "#%%\n"
    }
   },
   "outputs": [
    {
     "data": {
      "text/html": [
       "<div>\n",
       "<style scoped>\n",
       "    .dataframe tbody tr th:only-of-type {\n",
       "        vertical-align: middle;\n",
       "    }\n",
       "\n",
       "    .dataframe tbody tr th {\n",
       "        vertical-align: top;\n",
       "    }\n",
       "\n",
       "    .dataframe thead th {\n",
       "        text-align: right;\n",
       "    }\n",
       "</style>\n",
       "<table border=\"1\" class=\"dataframe\">\n",
       "  <thead>\n",
       "    <tr style=\"text-align: right;\">\n",
       "      <th></th>\n",
       "      <th>summary</th>\n",
       "      <th>metadata</th>\n",
       "    </tr>\n",
       "  </thead>\n",
       "  <tbody>\n",
       "    <tr>\n",
       "      <th>0</th>\n",
       "      <td>The summary discusses a crypto Roundtable disc...</td>\n",
       "      <td>{'source': 'UeIV4KcSUlk', 'title': 'Banking cr...</td>\n",
       "    </tr>\n",
       "    <tr>\n",
       "      <th>1</th>\n",
       "      <td>The podcast episode covers various topics incl...</td>\n",
       "      <td>{'source': 'ANd4jPLnMAU', 'title': 'Coinbase c...</td>\n",
       "    </tr>\n",
       "    <tr>\n",
       "      <th>2</th>\n",
       "      <td>The podcast episode features Coffeezilla, a Yo...</td>\n",
       "      <td>{'source': 'J8YnxrGEzT4', 'title': 'Logan Paul...</td>\n",
       "    </tr>\n",
       "    <tr>\n",
       "      <th>3</th>\n",
       "      <td>The provided text covers a range of topics inc...</td>\n",
       "      <td>{'source': 'hNcLMN_bZCM', 'title': 'Bing dodge...</td>\n",
       "    </tr>\n",
       "  </tbody>\n",
       "</table>\n",
       "</div>"
      ],
      "text/plain": [
       "                                             summary   \n",
       "0  The summary discusses a crypto Roundtable disc...  \\\n",
       "1  The podcast episode covers various topics incl...   \n",
       "2  The podcast episode features Coffeezilla, a Yo...   \n",
       "3  The provided text covers a range of topics inc...   \n",
       "\n",
       "                                            metadata  \n",
       "0  {'source': 'UeIV4KcSUlk', 'title': 'Banking cr...  \n",
       "1  {'source': 'ANd4jPLnMAU', 'title': 'Coinbase c...  \n",
       "2  {'source': 'J8YnxrGEzT4', 'title': 'Logan Paul...  \n",
       "3  {'source': 'hNcLMN_bZCM', 'title': 'Bing dodge...  "
      ]
     },
     "execution_count": 5,
     "metadata": {},
     "output_type": "execute_result"
    }
   ],
   "source": [
    "low_eng_df = pd.DataFrame.from_records(low_engagement_summaries)\n",
    "low_eng_df"
   ]
  },
  {
   "cell_type": "code",
   "execution_count": 6,
   "metadata": {
    "pycharm": {
     "name": "#%%\n"
    }
   },
   "outputs": [],
   "source": [
    "def format_summaries(data):\n",
    "    formatted_strings = []\n",
    "    for i, obj in enumerate(data, start=1):\n",
    "        summary = obj[\"summary\"]\n",
    "        views = obj[\"metadata\"][\"view_count\"]\n",
    "        title = obj[\"metadata\"][\"title\"].split(\"|\")[0].strip()\n",
    "\n",
    "        formatted_string = (\n",
    "            f\"Video {i}\\nTitle: {title}\\nView Count: {views}\\nSummary: {summary}\\n\"\n",
    "        )\n",
    "        formatted_strings.append(formatted_string)\n",
    "\n",
    "    result = \"\\n\".join(formatted_strings)\n",
    "    return result\n",
    "\n",
    "\n",
    "high_eng_prompt = format_summaries(high_engagement_summaries)\n",
    "low_eng_prompt = format_summaries(low_engagement_summaries)"
   ]
  },
  {
   "cell_type": "code",
   "execution_count": 7,
   "metadata": {
    "pycharm": {
     "name": "#%%\n"
    }
   },
   "outputs": [
    {
     "name": "stdout",
     "output_type": "stream",
     "text": [
      "Video 1\n",
      "Title: Fireside chat with Jason Calacanis & Brad Gerstner hosted by Mubadala’s Ibrahim Ajami\n",
      "View Count: 100551\n",
      "Summary: The conversation between Jason Calacanis and Brad Gerstner covers various topics related to the technology industry, including their experiences in Silicon Valley, their respective companies and investments, and the challenges of building successful companies. They discuss the current state of the industry, the importance of innovation and perseverance, and the need for founders to stay focused on their products and customers. They also touch on the impact of AI, the potential of the metaverse, and the evolution of funding and technology. The speaker emphasizes the importance of data, the cloud, and AI in driving technological advancements and economic growth. They also discuss the role of venture capital, the importance of resilience and humility, and the benefits of in-person collaboration. The speaker encourages founders to be intellectually honest and transparent, to embrace failure as part of the process, and to continuously learn and adapt. They also highlight the importance of networking, learning from successful entrepreneurs, and building a global network. Overall, the speaker remains optimistic about the positive impact of technology on human progress and the potential for emerging markets to develop their own tech ecosystems.\n",
      "\n",
      "Video 2\n",
      "Title: ChatGPT vs Hollywood writers and the WGA strike with Lon Harris\n",
      "View Count: 137823\n",
      "Summary: The summary covers various topics including the challenges faced by writers in the entertainment industry, the potential of technology in creative writing, the impact of streaming platforms on compensation and job stability for writers, the potential of Bitcoin as a digital currency, and the changes happening with HBO Max. It also mentions the development of voice-mimicking bots for podcast advertising, concerns about excessive technology use, and recommendations for TV shows and movies.\n",
      "\n",
      "Video 3\n",
      "Title: Demoing Google’s MusicLM, AssemblyAI, and other AI tools with Sunny Madra\n",
      "View Count: 104388\n",
      "Summary: The speaker discusses various topics related to AI, podcasts, music creation, transcription technology, and the potential for AI personalities. They promote sponsors, introduce a guest, and discuss different AI platforms and tools. The speaker also mentions the importance of copyright and regulation in the AI industry and expresses interest in creating more content. They offer a VIP ticket to a summit event and discuss the interest surrounding it.\n",
      "\n",
      "Video 4\n",
      "Title: GPT-4 web browsing, plugin demos, AI layoffs + more with Sunny Madra & Vinny Lingham\n",
      "View Count: 92976\n",
      "Summary: The summary discusses various topics including the importance of incorporating social features into products, advancements in AI technology such as ChatGPT4 with web browsing capabilities, the potential impact of AI on job loss and opportunities, the use of AI tools for research and debate purposes, strategies to address issues like drug trafficking and water desalination, the potential of AI in video editing and podcasting, the benefits and limitations of AI in real estate, and the speaker's farewell and mention of future meetings.\n",
      "\n"
     ]
    }
   ],
   "source": [
    "print(high_eng_prompt)"
   ]
  },
  {
   "cell_type": "code",
   "execution_count": 8,
   "metadata": {
    "pycharm": {
     "name": "#%%\n"
    }
   },
   "outputs": [
    {
     "name": "stdout",
     "output_type": "stream",
     "text": [
      "Video 1\n",
      "Title: Banking crisis impact, more Meta cuts, and GPT-4 with Sunny Madra and Vinny Lingham\n",
      "View Count: 20470\n",
      "Summary: The summary discusses a crypto Roundtable discussion with entrepreneurs Sunny and Vinnie. They cover topics such as the impact of the banking contagion on the crypto industry, potential adoption of a CBDC by the US, risk management, social media's influence on banking, and the need for startups to adapt. The summary also mentions the layoffs at Zuckerberg's company and the importance of being Sock 2 compliant for startups. It discusses the challenges faced by banks and startups in the funding environment and the potential risks of inflated valuations. The speaker emphasizes the importance of transparency and stability in the cryptocurrency market, as well as the potential of stablecoins and the need for regulation. The summary also touches on interest rates, the value of podcasts, and the changes being made by Zuckerberg at Facebook. It concludes with a mention of the capabilities of a new AI model called Chat GPT4 and the importance of staying updated and innovative in the tech industry.\n",
      "\n",
      "Video 2\n",
      "Title: Coinbase cuts 20%, Microsoft to invest $10B into OpenAI & Ascend Elements CEO Mike O’Kronley\n",
      "View Count: 30730\n",
      "Summary: The podcast episode covers various topics including extreme weather conditions, the rift between Coinbase and its employees, the Microsoft and OpenAI relationship, climate technology, and an interview with a climate founder. It also discusses the need for companies to be efficient and the potential job opportunities in other sectors. The episode is sponsored by Vanta, Mixpanel, and Squarespace. Additionally, it mentions the importance of recycling lithium-ion batteries and the increasing demand for renewable energy and electric vehicles.\n",
      "\n",
      "Video 3\n",
      "Title: Logan Paul & CryptoZoo’s alleged scam breakdown with Coffeezilla + OK Boomer with Em Herrera\n",
      "View Count: 14866\n",
      "Summary: The podcast episode features Coffeezilla, a YouTuber and investigative journalist, discussing the alleged scam involving crypto zoo and Logan Paul. They discuss their motivation for exposing scams and the lack of substance in many blockchain games. The episode also touches on Logan Paul's involvement in a failed crypto project and the potential legal repercussions. The speaker criticizes lawyers for their response and suggests that Logan Paul should take responsibility for any financial losses incurred by his fans. They also discuss the influence of successful influencers in promoting projects and the importance of vetting teams. The speaker briefly mentions their involvement in a lawsuit and their support for independent artists and investigative journalism. The conversation covers various topics such as founder education, fraud on FTX, and the desire for fame and success among influencers. Emily Herrera, an investor at Night Ventures, discusses her predictions for the consumer market in 2023 and the increasing influence of user opinions on purchasing decisions. The conversation highlights the importance of online reviews. The speaker also mentions the importance of personal cyber security and the need for consumer cyber security products. They discuss the prevalence of impersonators on social media platforms and the importance of password safety. The speaker encourages influencers to promote personal security and mentions their own podcast on the balance between wellness and technology.\n",
      "\n",
      "Video 4\n",
      "Title: Bing dodges $100B bullet & IVP's Tom Loverro on the looming startup collapse\n",
      "View Count: 20538\n",
      "Summary: The provided text covers a range of topics including the sharing of personal health data by companies without consent, concerns about the accuracy and misuse of AI-generated content, predictions of a potential mass extinction event for startups, the impact of deal structures on venture investments, the importance of fundraising and governance in startups, the importance of focusing on core survival during financial challenges, the influence of cognitive biases in venture investing, the significance of growth rates and stewardship of capital in startups, the extreme nature of the cryptocurrency market, the use of stock options to reward employees after layoffs, and the qualities to look for in investors and board members.\n",
      "\n"
     ]
    }
   ],
   "source": [
    "print(low_eng_prompt)"
   ]
  },
  {
   "cell_type": "code",
   "execution_count": 9,
   "metadata": {
    "pycharm": {
     "name": "#%%\n"
    }
   },
   "outputs": [],
   "source": [
    "from langchain.prompts import PromptTemplate\n",
    "from langchain.chains import LLMChain\n",
    "from langchain.chat_models import ChatOpenAI\n",
    "\n",
    "prompt_template = \"\"\" You are helpful AI assistant that helps to increase the engagement of youtube videos by analyzing the scripts of old videos.\\\n",
    "Looking at the given videos below in High_engagement_Videos and Low_engagement_videos sections,\\\n",
    "come up with new ideas for next videos.\\\n",
    "    \n",
    "High_Engagement_Videos:\n",
    "{high_engagement_videos}\n",
    "    \n",
    "Low_Engagement_Videos:\n",
    "{low_engagement_videos}\n",
    "\n",
    "Given the above High_Engagement_Videos and Low_Engagement_Videos, generate new ideas and themes.\n",
    "New ideas should be related to the High_Engagement_Videos by keeping the titles and summaries of the episodes in context and must be based on\\\n",
    "the common patterns between the High_Engagement_Videos and the guests in those episodes.\\\n",
    "The new videos should not have any content from Low_Engagement_Videos.\\\n",
    "Make sure to not include any speaker name in your suggested video topics or themes.\n",
    "Make sure to return at least 10 new ideas. Your response must be a csv file which contains the following columns:\\\n",
    "Topic, Theme, Summary. Summary should contain points to talk on the show and must be 100 words at max. Use | as a seperator\\\n",
    "and do not append any extra line in your csv response. Each row must have proper data and columns in each row must be three.\n",
    "If you don't know the answer, just say \"Hmm, I'm not sure.\"\\\n",
    "Don't try to make up an answer. \n",
    "\"\"\"\n",
    "llm = ChatOpenAI(model=\"gpt-3.5-turbo\", temperature=0.5)\n",
    "PROMPT = PromptTemplate(\n",
    "    template=prompt_template,\n",
    "    input_variables=[\"high_engagement_videos\", \"low_engagement_videos\"],\n",
    ")\n",
    "ideas_chain = LLMChain(llm=llm, prompt=PROMPT, verbose=True)"
   ]
  },
  {
   "cell_type": "code",
   "execution_count": 10,
   "metadata": {
    "pycharm": {
     "name": "#%%\n"
    }
   },
   "outputs": [
    {
     "name": "stdout",
     "output_type": "stream",
     "text": [
      "\n",
      "\n",
      "\u001B[1m> Entering new LLMChain chain...\u001B[0m\n",
      "Prompt after formatting:\n",
      "\u001B[32;1m\u001B[1;3m You are helpful AI assistant that helps to increase the engagement of youtube videos by analyzing the scripts of old videos.Looking at the given videos below in High_engagement_Videos and Low_engagement_videos sections,come up with new ideas for next videos.    \n",
      "High_Engagement_Videos:\n",
      "Video 1\n",
      "Title: Fireside chat with Jason Calacanis & Brad Gerstner hosted by Mubadala’s Ibrahim Ajami\n",
      "View Count: 100551\n",
      "Summary: The conversation between Jason Calacanis and Brad Gerstner covers various topics related to the technology industry, including their experiences in Silicon Valley, their respective companies and investments, and the challenges of building successful companies. They discuss the current state of the industry, the importance of innovation and perseverance, and the need for founders to stay focused on their products and customers. They also touch on the impact of AI, the potential of the metaverse, and the evolution of funding and technology. The speaker emphasizes the importance of data, the cloud, and AI in driving technological advancements and economic growth. They also discuss the role of venture capital, the importance of resilience and humility, and the benefits of in-person collaboration. The speaker encourages founders to be intellectually honest and transparent, to embrace failure as part of the process, and to continuously learn and adapt. They also highlight the importance of networking, learning from successful entrepreneurs, and building a global network. Overall, the speaker remains optimistic about the positive impact of technology on human progress and the potential for emerging markets to develop their own tech ecosystems.\n",
      "\n",
      "Video 2\n",
      "Title: ChatGPT vs Hollywood writers and the WGA strike with Lon Harris\n",
      "View Count: 137823\n",
      "Summary: The summary covers various topics including the challenges faced by writers in the entertainment industry, the potential of technology in creative writing, the impact of streaming platforms on compensation and job stability for writers, the potential of Bitcoin as a digital currency, and the changes happening with HBO Max. It also mentions the development of voice-mimicking bots for podcast advertising, concerns about excessive technology use, and recommendations for TV shows and movies.\n",
      "\n",
      "Video 3\n",
      "Title: Demoing Google’s MusicLM, AssemblyAI, and other AI tools with Sunny Madra\n",
      "View Count: 104388\n",
      "Summary: The speaker discusses various topics related to AI, podcasts, music creation, transcription technology, and the potential for AI personalities. They promote sponsors, introduce a guest, and discuss different AI platforms and tools. The speaker also mentions the importance of copyright and regulation in the AI industry and expresses interest in creating more content. They offer a VIP ticket to a summit event and discuss the interest surrounding it.\n",
      "\n",
      "Video 4\n",
      "Title: GPT-4 web browsing, plugin demos, AI layoffs + more with Sunny Madra & Vinny Lingham\n",
      "View Count: 92976\n",
      "Summary: The summary discusses various topics including the importance of incorporating social features into products, advancements in AI technology such as ChatGPT4 with web browsing capabilities, the potential impact of AI on job loss and opportunities, the use of AI tools for research and debate purposes, strategies to address issues like drug trafficking and water desalination, the potential of AI in video editing and podcasting, the benefits and limitations of AI in real estate, and the speaker's farewell and mention of future meetings.\n",
      "\n",
      "    \n",
      "Low_Engagement_Videos:\n",
      "Video 1\n",
      "Title: Banking crisis impact, more Meta cuts, and GPT-4 with Sunny Madra and Vinny Lingham\n",
      "View Count: 20470\n",
      "Summary: The summary discusses a crypto Roundtable discussion with entrepreneurs Sunny and Vinnie. They cover topics such as the impact of the banking contagion on the crypto industry, potential adoption of a CBDC by the US, risk management, social media's influence on banking, and the need for startups to adapt. The summary also mentions the layoffs at Zuckerberg's company and the importance of being Sock 2 compliant for startups. It discusses the challenges faced by banks and startups in the funding environment and the potential risks of inflated valuations. The speaker emphasizes the importance of transparency and stability in the cryptocurrency market, as well as the potential of stablecoins and the need for regulation. The summary also touches on interest rates, the value of podcasts, and the changes being made by Zuckerberg at Facebook. It concludes with a mention of the capabilities of a new AI model called Chat GPT4 and the importance of staying updated and innovative in the tech industry.\n",
      "\n",
      "Video 2\n",
      "Title: Coinbase cuts 20%, Microsoft to invest $10B into OpenAI & Ascend Elements CEO Mike O’Kronley\n",
      "View Count: 30730\n",
      "Summary: The podcast episode covers various topics including extreme weather conditions, the rift between Coinbase and its employees, the Microsoft and OpenAI relationship, climate technology, and an interview with a climate founder. It also discusses the need for companies to be efficient and the potential job opportunities in other sectors. The episode is sponsored by Vanta, Mixpanel, and Squarespace. Additionally, it mentions the importance of recycling lithium-ion batteries and the increasing demand for renewable energy and electric vehicles.\n",
      "\n",
      "Video 3\n",
      "Title: Logan Paul & CryptoZoo’s alleged scam breakdown with Coffeezilla + OK Boomer with Em Herrera\n",
      "View Count: 14866\n",
      "Summary: The podcast episode features Coffeezilla, a YouTuber and investigative journalist, discussing the alleged scam involving crypto zoo and Logan Paul. They discuss their motivation for exposing scams and the lack of substance in many blockchain games. The episode also touches on Logan Paul's involvement in a failed crypto project and the potential legal repercussions. The speaker criticizes lawyers for their response and suggests that Logan Paul should take responsibility for any financial losses incurred by his fans. They also discuss the influence of successful influencers in promoting projects and the importance of vetting teams. The speaker briefly mentions their involvement in a lawsuit and their support for independent artists and investigative journalism. The conversation covers various topics such as founder education, fraud on FTX, and the desire for fame and success among influencers. Emily Herrera, an investor at Night Ventures, discusses her predictions for the consumer market in 2023 and the increasing influence of user opinions on purchasing decisions. The conversation highlights the importance of online reviews. The speaker also mentions the importance of personal cyber security and the need for consumer cyber security products. They discuss the prevalence of impersonators on social media platforms and the importance of password safety. The speaker encourages influencers to promote personal security and mentions their own podcast on the balance between wellness and technology.\n",
      "\n",
      "Video 4\n",
      "Title: Bing dodges $100B bullet & IVP's Tom Loverro on the looming startup collapse\n",
      "View Count: 20538\n",
      "Summary: The provided text covers a range of topics including the sharing of personal health data by companies without consent, concerns about the accuracy and misuse of AI-generated content, predictions of a potential mass extinction event for startups, the impact of deal structures on venture investments, the importance of fundraising and governance in startups, the importance of focusing on core survival during financial challenges, the influence of cognitive biases in venture investing, the significance of growth rates and stewardship of capital in startups, the extreme nature of the cryptocurrency market, the use of stock options to reward employees after layoffs, and the qualities to look for in investors and board members.\n",
      "\n",
      "\n",
      "Given the above High_Engagement_Videos and Low_Engagement_Videos, generate new ideas and themes.\n",
      "New ideas should be related to the High_Engagement_Videos by keeping the titles and summaries of the episodes in context and must be based onthe common patterns between the High_Engagement_Videos and the guests in those episodes.The new videos should not have any content from Low_Engagement_Videos.Make sure to not include any speaker name in your suggested video topics or themes.\n",
      "Make sure to return at least 10 new ideas. Your response must be a csv file which contains the following columns:Topic, Theme, Summary. Summary should contain points to talk on the show and must be 100 words at max. Use | as a seperatorand do not append any extra line in your csv response. Each row must have proper data and columns in each row must be three.\n",
      "If you don't know the answer, just say \"Hmm, I'm not sure.\"Don't try to make up an answer. \n",
      "\u001B[0m\n"
     ]
    },
    {
     "name": "stdout",
     "output_type": "stream",
     "text": [
      "\n",
      "\u001B[1m> Finished chain.\u001B[0m\n"
     ]
    }
   ],
   "source": [
    "response = ideas_chain.run(\n",
    "    {\n",
    "        \"high_engagement_videos\": high_eng_prompt,\n",
    "        \"low_engagement_videos\": low_eng_prompt,\n",
    "    }\n",
    ")"
   ]
  },
  {
   "cell_type": "code",
   "execution_count": 27,
   "metadata": {
    "pycharm": {
     "name": "#%%\n"
    }
   },
   "outputs": [
    {
     "data": {
      "text/plain": [
       "'Topic|Theme|Summary\\nAI in the Music Industry|Exploring the impact of AI on music creation and production|Discuss the role of AI in revolutionizing the music industry, including AI-powered music creation tools and platforms. Explore the benefits and limitations of using AI in music production, and the potential for AI to enhance creativity and collaboration among musicians. Highlight successful examples of AI-generated music and discuss the ethical considerations and copyright issues surrounding AI-generated music.\\nThe Future of Podcasting|Examining the potential of AI in podcasting|Discuss the role of AI in podcasting, including AI-powered transcription and editing tools. Explore how AI can improve podcast discovery and recommendation algorithms, and enhance the listener experience through personalized content. Highlight the benefits of using AI in podcast production, such as automated editing and audio enhancement. Discuss the potential challenges and ethical considerations of AI in podcasting, including the impact on human hosts and the need for transparency in AI-generated content.\\nThe Rise of Voice Assistants|Exploring the evolution and impact of voice assistants|Discuss the history and evolution of voice assistants, from Siri to Google Assistant and Alexa. Explore the impact of voice assistants on daily life, including their role in smart homes, voice search, and voice-controlled devices. Highlight the benefits and limitations of voice assistants, and discuss the future potential of AI-powered voice assistants in healthcare, customer service, and other industries. Address concerns about privacy and data security in relation to voice assistants.\\nThe Metaverse: A New Frontier|Examining the concept and potential of the metaverse|Discuss the concept of the metaverse, a virtual reality space where users can interact with a computer-generated environment and other users. Explore the potential applications of the metaverse in gaming, social media, education, and business. Discuss the challenges and opportunities of building a metaverse, including technological limitations, user adoption, and ethical considerations. Highlight successful examples of metaverse platforms and discuss the potential impact of the metaverse on society and the economy.\\nThe Future of Venture Capital|Analyzing the evolving landscape of venture capital|Discuss the current state of venture capital, including trends in funding, investment strategies, and the impact of AI and technology on the industry. Explore the challenges and opportunities for startups in accessing venture capital, and discuss the role of venture capitalists in supporting innovation and growth. Highlight successful examples of venture capital-backed companies and discuss the potential future developments in the venture capital industry.\\nThe Power of Networking|Exploring the importance of networking in the tech industry|Discuss the role of networking in building successful careers and businesses in the tech industry. Share tips and strategies for effective networking, including attending industry events, joining professional organizations, and leveraging social media platforms. Highlight the benefits of networking, such as access to mentorship, collaboration opportunities, and job prospects. Discuss the potential challenges and ethical considerations of networking, including the need for inclusivity and diversity in tech networking spaces.\\nThe Future of Funding in Emerging Markets|Examining the potential for tech ecosystems in emerging markets|Discuss the opportunities and challenges of developing tech ecosystems in emerging markets, including access to funding, talent, and infrastructure. Explore successful examples of tech startups in emerging markets and discuss the potential for these markets to become innovation hubs. Highlight the role of government policies and initiatives in supporting tech entrepreneurship in emerging markets. Discuss the potential impact of technology on economic growth and social development in emerging markets.\\nThe Impact of AI in Real Estate|Exploring the role of AI in the real estate industry|Discuss the applications of AI in the real estate industry, including AI-powered property valuation, market analysis, and virtual property tours. Explore how AI can improve efficiency and accuracy in real estate transactions, and discuss the potential impact of AI on job roles in the industry. Highlight successful examples of AI adoption in real estate and discuss the challenges and ethical considerations of using AI in the industry, such as data privacy and algorithm bias.\\nThe Future of Technology in Education|Examining the role of technology in transforming education|Discuss the potential of technology in improving access to education, personalized learning, and student engagement. Explore the impact of AI, virtual reality, and online platforms on traditional education models. Highlight successful examples of technology integration in education and discuss the challenges and ethical considerations of using technology in the classroom. Address concerns about the digital divide and the need for equitable access to technology in education.\\nThe Evolution of Streaming Platforms|Analyzing the changing landscape of streaming platforms|Discuss the evolution of streaming platforms, from traditional TV to on-demand services and live streaming. Explore the impact of streaming platforms on content creation, distribution, and monetization. Discuss the challenges and opportunities for content creators in the streaming industry, and the potential of AI in content recommendation and personalization. Highlight successful examples of streaming platforms and discuss the future trends and developments in the industry.'"
      ]
     },
     "execution_count": 27,
     "metadata": {},
     "output_type": "execute_result"
    }
   ],
   "source": [
    "response"
   ]
  },
  {
   "cell_type": "code",
   "execution_count": 28,
   "metadata": {
    "pycharm": {
     "name": "#%%\n"
    }
   },
   "outputs": [],
   "source": [
    "import pandas as pd\n",
    "from io import StringIO\n",
    "\n",
    "csv_file = StringIO(response)\n",
    "# Read the CSV data and create a DataFrame\n",
    "df = pd.read_csv(csv_file, sep=\"|\")"
   ]
  },
  {
   "cell_type": "code",
   "execution_count": 29,
   "metadata": {},
   "outputs": [
    {
     "data": {
      "text/html": [
       "<div>\n",
       "<style scoped>\n",
       "    .dataframe tbody tr th:only-of-type {\n",
       "        vertical-align: middle;\n",
       "    }\n",
       "\n",
       "    .dataframe tbody tr th {\n",
       "        vertical-align: top;\n",
       "    }\n",
       "\n",
       "    .dataframe thead th {\n",
       "        text-align: right;\n",
       "    }\n",
       "</style>\n",
       "<table border=\"1\" class=\"dataframe\">\n",
       "  <thead>\n",
       "    <tr style=\"text-align: right;\">\n",
       "      <th></th>\n",
       "      <th>Topic</th>\n",
       "      <th>Theme</th>\n",
       "      <th>Summary</th>\n",
       "    </tr>\n",
       "  </thead>\n",
       "  <tbody>\n",
       "    <tr>\n",
       "      <th>0</th>\n",
       "      <td>AI in the Music Industry</td>\n",
       "      <td>Exploring the impact of AI on music creation a...</td>\n",
       "      <td>Discuss the role of AI in revolutionizing the ...</td>\n",
       "    </tr>\n",
       "    <tr>\n",
       "      <th>1</th>\n",
       "      <td>The Future of Podcasting</td>\n",
       "      <td>Examining the potential of AI in podcasting</td>\n",
       "      <td>Discuss the role of AI in podcasting, includin...</td>\n",
       "    </tr>\n",
       "    <tr>\n",
       "      <th>2</th>\n",
       "      <td>The Rise of Voice Assistants</td>\n",
       "      <td>Exploring the evolution and impact of voice as...</td>\n",
       "      <td>Discuss the history and evolution of voice ass...</td>\n",
       "    </tr>\n",
       "    <tr>\n",
       "      <th>3</th>\n",
       "      <td>The Metaverse: A New Frontier</td>\n",
       "      <td>Examining the concept and potential of the met...</td>\n",
       "      <td>Discuss the concept of the metaverse, a virtua...</td>\n",
       "    </tr>\n",
       "    <tr>\n",
       "      <th>4</th>\n",
       "      <td>The Future of Venture Capital</td>\n",
       "      <td>Analyzing the evolving landscape of venture ca...</td>\n",
       "      <td>Discuss the current state of venture capital, ...</td>\n",
       "    </tr>\n",
       "    <tr>\n",
       "      <th>5</th>\n",
       "      <td>The Power of Networking</td>\n",
       "      <td>Exploring the importance of networking in the ...</td>\n",
       "      <td>Discuss the role of networking in building suc...</td>\n",
       "    </tr>\n",
       "    <tr>\n",
       "      <th>6</th>\n",
       "      <td>The Future of Funding in Emerging Markets</td>\n",
       "      <td>Examining the potential for tech ecosystems in...</td>\n",
       "      <td>Discuss the opportunities and challenges of de...</td>\n",
       "    </tr>\n",
       "    <tr>\n",
       "      <th>7</th>\n",
       "      <td>The Impact of AI in Real Estate</td>\n",
       "      <td>Exploring the role of AI in the real estate in...</td>\n",
       "      <td>Discuss the applications of AI in the real est...</td>\n",
       "    </tr>\n",
       "    <tr>\n",
       "      <th>8</th>\n",
       "      <td>The Future of Technology in Education</td>\n",
       "      <td>Examining the role of technology in transformi...</td>\n",
       "      <td>Discuss the potential of technology in improvi...</td>\n",
       "    </tr>\n",
       "    <tr>\n",
       "      <th>9</th>\n",
       "      <td>The Evolution of Streaming Platforms</td>\n",
       "      <td>Analyzing the changing landscape of streaming ...</td>\n",
       "      <td>Discuss the evolution of streaming platforms, ...</td>\n",
       "    </tr>\n",
       "  </tbody>\n",
       "</table>\n",
       "</div>"
      ],
      "text/plain": [
       "                                       Topic   \n",
       "0                   AI in the Music Industry  \\\n",
       "1                   The Future of Podcasting   \n",
       "2               The Rise of Voice Assistants   \n",
       "3              The Metaverse: A New Frontier   \n",
       "4              The Future of Venture Capital   \n",
       "5                    The Power of Networking   \n",
       "6  The Future of Funding in Emerging Markets   \n",
       "7            The Impact of AI in Real Estate   \n",
       "8      The Future of Technology in Education   \n",
       "9       The Evolution of Streaming Platforms   \n",
       "\n",
       "                                               Theme   \n",
       "0  Exploring the impact of AI on music creation a...  \\\n",
       "1        Examining the potential of AI in podcasting   \n",
       "2  Exploring the evolution and impact of voice as...   \n",
       "3  Examining the concept and potential of the met...   \n",
       "4  Analyzing the evolving landscape of venture ca...   \n",
       "5  Exploring the importance of networking in the ...   \n",
       "6  Examining the potential for tech ecosystems in...   \n",
       "7  Exploring the role of AI in the real estate in...   \n",
       "8  Examining the role of technology in transformi...   \n",
       "9  Analyzing the changing landscape of streaming ...   \n",
       "\n",
       "                                             Summary  \n",
       "0  Discuss the role of AI in revolutionizing the ...  \n",
       "1  Discuss the role of AI in podcasting, includin...  \n",
       "2  Discuss the history and evolution of voice ass...  \n",
       "3  Discuss the concept of the metaverse, a virtua...  \n",
       "4  Discuss the current state of venture capital, ...  \n",
       "5  Discuss the role of networking in building suc...  \n",
       "6  Discuss the opportunities and challenges of de...  \n",
       "7  Discuss the applications of AI in the real est...  \n",
       "8  Discuss the potential of technology in improvi...  \n",
       "9  Discuss the evolution of streaming platforms, ...  "
      ]
     },
     "execution_count": 29,
     "metadata": {},
     "output_type": "execute_result"
    }
   ],
   "source": [
    "df"
   ]
  },
  {
   "cell_type": "code",
   "execution_count": null,
   "metadata": {},
   "outputs": [],
   "source": []
  }
 ],
 "metadata": {
  "kernelspec": {
   "display_name": "Python 3 (ipykernel)",
   "language": "python",
   "name": "python3"
  },
  "language_info": {
   "codemirror_mode": {
    "name": "ipython",
    "version": 3
   },
   "file_extension": ".py",
   "mimetype": "text/x-python",
   "name": "python",
   "nbconvert_exporter": "python",
   "pygments_lexer": "ipython3",
   "version": "3.8.16"
  }
 },
 "nbformat": 4,
 "nbformat_minor": 2
}
