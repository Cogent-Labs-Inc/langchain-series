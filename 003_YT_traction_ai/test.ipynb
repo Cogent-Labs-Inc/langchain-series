{
 "cells": [
  {
   "cell_type": "code",
   "execution_count": 52,
   "metadata": {},
   "outputs": [],
   "source": [
    "from langchain.document_loaders import YoutubeLoader\n",
    "\n",
    "urls = [\n",
    "    \"https://www.youtube.com/watch?v=_8bMMqy37y8&ab_channel=ThisWeekinStartups\",\n",
    "    \"https://www.youtube.com/watch?v=1SWEF-lyW28&ab_channel=ThisWeekinStartups\",\n",
    "    \"https://www.youtube.com/watch?v=oc5tHbEK0IQ&ab_channel=ThisWeekinStartups\",\n",
    "    \"https://www.youtube.com/watch?v=jrd4snFDSVA&ab_channel=ThisWeekinStartups\",\n",
    "]\n",
    "\n",
    "data = []\n",
    "for url in urls:\n",
    "    loader = YoutubeLoader.from_youtube_url(url, add_video_info=True)\n",
    "    data.append(loader.load())"
   ]
  },
  {
   "cell_type": "code",
   "execution_count": 53,
   "metadata": {},
   "outputs": [
    {
     "name": "stdout",
     "output_type": "stream",
     "text": [
      "{'source': '_8bMMqy37y8&ab_channel=ThisWeekinStartups', 'title': 'ChatGPT vs Hollywood writers and the WGA strike with Lon Harris | E1750', 'description': None, 'view_count': 95554, 'thumbnail_url': 'https://i.ytimg.com/vi/_8bMMqy37y8/hq720.jpg', 'publish_date': datetime.datetime(2023, 5, 25, 0, 0), 'length': 4611, 'author': 'This Week in Startups'}\n",
      "{'source': '1SWEF-lyW28&ab_channel=ThisWeekinStartups', 'title': 'Demoing Google’s MusicLM, AssemblyAI, and other AI tools with Sunny Madra | E1747', 'description': None, 'view_count': 104069, 'thumbnail_url': 'https://i.ytimg.com/vi/1SWEF-lyW28/hq720.jpg', 'publish_date': datetime.datetime(2023, 5, 22, 0, 0), 'length': 3526, 'author': 'This Week in Startups'}\n",
      "{'source': 'oc5tHbEK0IQ&ab_channel=ThisWeekinStartups', 'title': 'Fireside chat with Jason Calacanis & Brad Gerstner hosted by Mubadala’s Ibrahim Ajami | E1746', 'description': None, 'view_count': 96371, 'thumbnail_url': 'https://i.ytimg.com/vi/oc5tHbEK0IQ/hq720.jpg', 'publish_date': datetime.datetime(2023, 5, 19, 0, 0), 'length': 6030, 'author': 'This Week in Startups'}\n",
      "{'source': 'jrd4snFDSVA&ab_channel=ThisWeekinStartups', 'title': 'GPT-4 web browsing, plugin demos, AI layoffs + more with Sunny Madra & Vinny Lingham | E1737', 'description': None, 'view_count': 92599, 'thumbnail_url': 'https://i.ytimg.com/vi/jrd4snFDSVA/hq720.jpg', 'publish_date': datetime.datetime(2023, 5, 8, 0, 0), 'length': 3215, 'author': 'This Week in Startups'}\n"
     ]
    }
   ],
   "source": [
    "for doc in data:\n",
    "    print(doc[0].metadata)"
   ]
  },
  {
   "cell_type": "code",
   "execution_count": 54,
   "metadata": {},
   "outputs": [],
   "source": [
    "import tiktoken\n",
    "\n",
    "def num_tokens_from_string(string):\n",
    "    \"\"\"Returns the number of tokens in a text string.\"\"\"\n",
    "    encoding = tiktoken.encoding_for_model(\"gpt-3.5-turbo\")\n",
    "    num_tokens = len(encoding.encode(string))\n",
    "    return num_tokens"
   ]
  },
  {
   "cell_type": "code",
   "execution_count": 55,
   "metadata": {},
   "outputs": [
    {
     "name": "stdout",
     "output_type": "stream",
     "text": [
      "Tokens: 16086, chars: 75385\n",
      "Tokens: 11837, chars: 55701\n",
      "Tokens: 19134, chars: 92022\n",
      "Tokens: 11027, chars: 52236\n"
     ]
    }
   ],
   "source": [
    "for doc in data:\n",
    "    print(\n",
    "        f\"Tokens: {num_tokens_from_string(doc[0].page_content)}, chars: {len(doc[0].page_content)}\"\n",
    "    )"
   ]
  },
  {
   "cell_type": "code",
   "execution_count": 66,
   "metadata": {},
   "outputs": [],
   "source": [
    "from copy import deepcopy\n",
    "\n",
    "high_engagement_data = deepcopy(data)\n",
    "for doc in high_engagement_data:\n",
    "    chunk = len(doc[0].page_content) // 6\n",
    "    doc[0].page_content = doc[0].page_content[:chunk]"
   ]
  },
  {
   "cell_type": "code",
   "execution_count": 67,
   "metadata": {},
   "outputs": [
    {
     "name": "stdout",
     "output_type": "stream",
     "text": [
      "Tokens: 2624, chars: 12564\n",
      "Tokens: 1968, chars: 9283\n",
      "Tokens: 3224, chars: 15337\n",
      "Tokens: 1813, chars: 8706\n"
     ]
    }
   ],
   "source": [
    "for doc in high_engagement_data:\n",
    "    print(\n",
    "        f\"Tokens: {num_tokens_from_string(doc[0].page_content)}, chars: {len(doc[0].page_content)}\"\n",
    "    )"
   ]
  },
  {
   "cell_type": "code",
   "execution_count": 64,
   "metadata": {},
   "outputs": [],
   "source": [
    "import json\n",
    "import asyncio\n",
    "import time\n",
    "from langchain.chains import LLMChain\n",
    "from langchain import PromptTemplate\n",
    "from langchain.chat_models import ChatOpenAI\n",
    "\n",
    "\n",
    "async def chain_run(chain, doc, response):\n",
    "    result = await chain.arun({\"text\": doc, \"response_json\": response})\n",
    "    return result\n",
    "\n",
    "\n",
    "async def generate_concurrently(data):\n",
    "    response_json = json.dumps(\n",
    "        {\"topic\": \"topic here\", \"theme\": \"theme here\", \"summary\": \"summary  here\"}\n",
    "    )\n",
    "    prompt_template = \"\"\"Write a concise summary of the following:\n",
    "        {text}\n",
    "        Make sure to return the summary is concise and is 150 words at max.\n",
    "        Also return the topic of discussion  in the given text. The topic should not be longer than 5 words . You should figure out the theme of discussion of the text as well. \n",
    "        Make sure to return your response in json format given below:\n",
    "        {response_json}\n",
    "        \"\"\"\n",
    "    llm = ChatOpenAI(model=\"gpt-3.5-turbo\", temperature=0.5)\n",
    "    PROMPT = PromptTemplate(\n",
    "        template=prompt_template, input_variables=[\"text\", \"response_json\"]\n",
    "    )\n",
    "    chain = LLMChain(llm=llm, prompt=PROMPT, output_key=\"good_vids\")\n",
    "    tasks = [chain_run(chain, doc, response_json) for doc in data]\n",
    "    responses = await asyncio.gather(*tasks)\n",
    "    return responses"
   ]
  },
  {
   "cell_type": "code",
   "execution_count": 68,
   "metadata": {},
   "outputs": [
    {
     "name": "stdout",
     "output_type": "stream",
     "text": [
      "\u001b[1mConcurrently executed in 16.03 seconds.\u001b[0m\n"
     ]
    }
   ],
   "source": [
    "s = time.perf_counter()\n",
    "good_vids_summaries = await generate_concurrently(high_engagement_data)\n",
    "elapsed = time.perf_counter() - s\n",
    "print(\"\\033[1m\" + f\"Concurrently executed in {elapsed:0.2f} seconds.\" + \"\\033[0m\")"
   ]
  },
  {
   "cell_type": "code",
   "execution_count": 69,
   "metadata": {},
   "outputs": [
    {
     "data": {
      "text/plain": [
       "['{\"topic\": \"Writer\\'s Strike\", \"theme\": \"Impact of streaming on writer\\'s career\", \"summary\": \"The writer\\'s strike is impacting the entertainment industry as writers are demanding better pay and working conditions. The rise of streaming services has changed the landscape of the industry, with shorter seasons and fewer full-time writing positions. While rates have not dipped dramatically, writers are working for less time and finding it harder to build a full career. The competition for jobs is increasing, and many writers are now freelancers who move from one gig to another. This has led to a shortage of showrunners and head writers, making it difficult to train the next generation of talent. The strike is highlighting the need for better compensation and working conditions for writers in the industry.\"}',\n",
       " '{\"topic\": \"AI Tools for Music Generation\", \"theme\": \"Exploring the capabilities of AI in generating music\", \"summary\": \"In this episode of This Week in Startups, Sunny Madra demonstrates Google\\'s MusicLM, an AI model that generates music based on prompts. The model has been trained on a library of copyrighted music and can generate music based on user prompts. Madra showcases various prompts such as Tulum beach party with cyberpunk, Atlanta trap music with a New York 80s flair, and more. The discussion also touches on the potential applications of AI-generated music in the music industry. The episode also features AssemblyAI, an AI-powered transcription service and other AI tools.\"}',\n",
       " '{\"topic\": \"State of Technology Industry\", \"theme\": \"Advice for Founders during a market correction\", \"summary\": \"In a Fireside conversation between Jason Calacanis and Brad Gerstner, the two discuss the current state of the technology industry and the ongoing market correction. Gerstner advises founders to focus on being efficient, creative, and obsessed with their product and customers. He notes that during periods of excess liquidity, too many companies are funded, and competition erodes natural profit, making it harder for founders to succeed. Calacanis adds that founders should have relentless focus, especially during difficult times, and that execution is the only thing that matters. They both agree that the current market correction is healthy for the industry and will separate the truly dedicated founders from those seeking a quick profit.\"}',\n",
       " '{\"topic\": \"AI Roundtable\", \"theme\": \"Discussing the release of GPT-4 web browsing with plugin demos and AI layoffs\", \"summary\": \"In this episode of This Week in Startups, Sunny Madra and Vinny Lingham discuss the release of GPT-4 web browsing with plugin demos and its potential use cases. They demonstrate how the technology can be used to create job descriptions, analyze code, and find interesting tech stories. The discussion also touches on the current state of AI development, with the hosts noting the increasing popularity of AI and the number of entrepreneurs focusing on it. The episode also mentions recent AI-related layoffs in the industry. Overall, the discussion centers on the potential of AI and its impact on various industries.\"}']"
      ]
     },
     "execution_count": 69,
     "metadata": {},
     "output_type": "execute_result"
    }
   ],
   "source": [
    "good_vids_summaries"
   ]
  },
  {
   "cell_type": "code",
   "execution_count": 70,
   "metadata": {},
   "outputs": [],
   "source": [
    "from langchain.document_loaders import YoutubeLoader\n",
    "\n",
    "low_engagement_urls = [\n",
    "    \"https://www.youtube.com/watch?v=UeIV4KcSUlk\",\n",
    "    \"https://www.youtube.com/watch?v=hNcLMN_bZCM\",\n",
    "    \"https://www.youtube.com/watch?v=ANd4jPLnMAU\",\n",
    "    \"https://www.youtube.com/watch?v=J8YnxrGEzT4\",\n",
    "]\n",
    "\n",
    "vid_data = []\n",
    "for url in low_engagement_urls:\n",
    "    loader = YoutubeLoader.from_youtube_url(url, add_video_info=True)\n",
    "    vid_data.append(loader.load())"
   ]
  },
  {
   "cell_type": "code",
   "execution_count": 71,
   "metadata": {},
   "outputs": [
    {
     "name": "stdout",
     "output_type": "stream",
     "text": [
      "{'source': 'UeIV4KcSUlk', 'title': 'Banking crisis impact, more Meta cuts, and GPT-4 with Sunny Madra and Vinny Lingham | E1700', 'description': None, 'view_count': 20414, 'thumbnail_url': 'https://i.ytimg.com/vi/UeIV4KcSUlk/hq720.jpg', 'publish_date': datetime.datetime(2023, 3, 16, 0, 0), 'length': 4973, 'author': 'This Week in Startups'}\n",
      "{'source': 'hNcLMN_bZCM', 'title': \"Bing dodges $100B bullet & IVP's Tom Loverro on the looming startup collapse | E1678\", 'description': None, 'view_count': 20514, 'thumbnail_url': 'https://i.ytimg.com/vi/hNcLMN_bZCM/hq720.jpg', 'publish_date': datetime.datetime(2023, 2, 14, 0, 0), 'length': 4441, 'author': 'This Week in Startups'}\n",
      "{'source': 'ANd4jPLnMAU', 'title': 'Coinbase cuts 20%, Microsoft to invest $10B into OpenAI & Ascend Elements CEO Mike O’Kronley | E1654', 'description': None, 'view_count': 30715, 'thumbnail_url': 'https://i.ytimg.com/vi/ANd4jPLnMAU/hq720.jpg', 'publish_date': datetime.datetime(2023, 1, 10, 0, 0), 'length': 5704, 'author': 'This Week in Startups'}\n",
      "{'source': 'J8YnxrGEzT4', 'title': 'Logan Paul & CryptoZoo’s alleged scam breakdown with Coffeezilla + OK Boomer with Em Herrera | E1652', 'description': None, 'view_count': 14828, 'thumbnail_url': 'https://i.ytimg.com/vi/J8YnxrGEzT4/hq720.jpg', 'publish_date': datetime.datetime(2023, 1, 6, 0, 0), 'length': 4439, 'author': 'This Week in Startups'}\n"
     ]
    }
   ],
   "source": [
    "for doc in vid_data:\n",
    "    print(doc[0].metadata)"
   ]
  },
  {
   "cell_type": "code",
   "execution_count": 72,
   "metadata": {},
   "outputs": [],
   "source": [
    "from copy import deepcopy\n",
    "\n",
    "low_engagement_data = []\n",
    "low_engagement_data = deepcopy(vid_data)\n",
    "for doc in low_engagement_data:\n",
    "    chunk = len(doc[0].page_content) // 6\n",
    "    doc[0].page_content = doc[0].page_content[:chunk]"
   ]
  },
  {
   "cell_type": "code",
   "execution_count": 73,
   "metadata": {},
   "outputs": [
    {
     "name": "stdout",
     "output_type": "stream",
     "text": [
      "\u001b[1mConcurrent executed in 15.75 seconds.\u001b[0m\n"
     ]
    }
   ],
   "source": [
    "low_engagement_vids = [doc[0] for doc in low_engagement_data]\n",
    "\n",
    "s = time.perf_counter()\n",
    "bad_vid_summaries = await generate_concurrently(low_engagement_vids)\n",
    "elapsed = time.perf_counter() - s\n",
    "print(\"\\033[1m\" + f\"Concurrent executed in {elapsed:0.2f} seconds.\" + \"\\033[0m\")"
   ]
  },
  {
   "cell_type": "code",
   "execution_count": 74,
   "metadata": {},
   "outputs": [
    {
     "data": {
      "text/plain": [
       "['{\"topic\": \"Banking crisis\", \"theme\": \"Impact of Silicon Valley Bank shutdown on startups and banking industry\", \"summary\": \"Sunny Madra and Vinny Lingham discuss the impact of the Silicon Valley Bank shutdown on startups and the banking industry. They talk about the anxiety and uncertainty among entrepreneurs and investors, the lack of clarity from banks and regulators, and the $620 billion of unrealized losses due to the rise in interest rates. They also touch on the potential adoption of a CBDC by the US and the impact of social media on banking. The discussion includes tips on how to protect startups and treasuries in these changing times and how to play the startup game with changing rules.\"}',\n",
       " '{\"topic\": \"Data sharing by apps\", \"theme\": \"Privacy concerns and need for federal legislation\", \"summary\": \"A recent report by The Washington Post reveals that 11 companies have been selling bundles of health data, including information on antidepressants, insomnia, attention issues, Alzheimer\\'s disease, and bladder control difficulties. This data is being shared by app makers and other companies legally, as HIPAA rules only restrict how covered health entities share American health data. The data brokers are offering personal identifiable information like names, addresses, and incomes of people, and are even showing lists called \\'anxiety sufferers\\' and \\'consumers with clinical depression in the United States.\\' The harms of data sharing include privacy concerns and the possibility of being wrongly targeted with advertising. The discussion highlights the need for federal privacy legislation in the country.\"}',\n",
       " '{\"topic\": \"Crypto layoffs and Microsoft-OpenAI partnership\", \"theme\": \"Impact of economic downturn on tech industry and climate startups\", \"summary\": \"Coinbase announces a 20% cut in its workforce, while CEO Brian Armstrong warns of more layoffs in the crypto industry. Microsoft announces a $10 billion investment in OpenAI, which is spending billions on cloud computing with Microsoft. The episode also features discussions on climate tech and interview with Michael Crowley, CEO of Ascend Elements, on battery recycling and creating new battery feedstock for electric vehicles.\"}',\n",
       " '{\"topic\": \"Logan Paul and CryptoZoo Scam\", \"theme\": \"Investigative Journalism and Scam Awareness\", \"summary\": \"Coffeezilla, a YouTuber and investigative journalist, joins This Week in Startups to discuss the alleged scam involving CryptoZoo and Logan Paul. Coffeezilla\\'s channel focuses on uncovering scams and deceptive marketing, particularly in the online ecosystem. The discussion centers around the promises made by CryptoZoo, the involvement of Logan Paul, and the subsequent fallout. The topic highlights the need for scam awareness and the importance of investigative journalism in uncovering fraudulent activities.\"}']"
      ]
     },
     "execution_count": 74,
     "metadata": {},
     "output_type": "execute_result"
    }
   ],
   "source": [
    "bad_vid_summaries"
   ]
  },
  {
   "cell_type": "code",
   "execution_count": 75,
   "metadata": {},
   "outputs": [],
   "source": [
    "import json\n",
    "\n",
    "\n",
    "def format_json_objects(data, meta_info):\n",
    "    formatted_strings = []\n",
    "    for i, (summary, metadata) in enumerate(zip(data, meta_info), start=1):\n",
    "        obj = json.loads(summary)  # Convert JSON object to dictionary\n",
    "        topic = obj[\"topic\"]\n",
    "        theme = obj[\"theme\"]\n",
    "        summary = obj[\"summary\"]\n",
    "        views = metadata[\"view_count\"]\n",
    "        title = metadata[\"title\"].split(\"|\")[0].strip()\n",
    "\n",
    "        formatted_string = f\"Video {i}\\nTitle: {title}\\nView Count: {views}\\nTopic: {topic}\\nTheme : {theme}\\nSummary: {summary}\\n=====================\"\n",
    "        formatted_strings.append(formatted_string)\n",
    "\n",
    "    result = \"\\n\".join(formatted_strings)\n",
    "    return result\n",
    "\n",
    "\n",
    "good_vids_metadata = [doc[0].metadata for doc in high_engagement_data]\n",
    "bad_vids_metadata = [doc[0].metadata for doc in low_engagement_data]\n",
    "good_vids_prompt_str = format_json_objects(good_vids_summaries, good_vids_metadata)\n",
    "bad_vids_prompt_str = format_json_objects(bad_vid_summaries, bad_vids_metadata)"
   ]
  },
  {
   "cell_type": "code",
   "execution_count": 76,
   "metadata": {},
   "outputs": [
    {
     "data": {
      "text/plain": [
       "\"Video 1\\nTitle: ChatGPT vs Hollywood writers and the WGA strike with Lon Harris\\nView Count: 95554\\nTopic: Writer's Strike\\nTheme : Impact of streaming on writer's career\\nSummary: The writer's strike is impacting the entertainment industry as writers are demanding better pay and working conditions. The rise of streaming services has changed the landscape of the industry, with shorter seasons and fewer full-time writing positions. While rates have not dipped dramatically, writers are working for less time and finding it harder to build a full career. The competition for jobs is increasing, and many writers are now freelancers who move from one gig to another. This has led to a shortage of showrunners and head writers, making it difficult to train the next generation of talent. The strike is highlighting the need for better compensation and working conditions for writers in the industry.\\n=====================\\nVideo 2\\nTitle: Demoing Google’s MusicLM, AssemblyAI, and other AI tools with Sunny Madra\\nView Count: 104069\\nTopic: AI Tools for Music Generation\\nTheme : Exploring the capabilities of AI in generating music\\nSummary: In this episode of This Week in Startups, Sunny Madra demonstrates Google's MusicLM, an AI model that generates music based on prompts. The model has been trained on a library of copyrighted music and can generate music based on user prompts. Madra showcases various prompts such as Tulum beach party with cyberpunk, Atlanta trap music with a New York 80s flair, and more. The discussion also touches on the potential applications of AI-generated music in the music industry. The episode also features AssemblyAI, an AI-powered transcription service and other AI tools.\\n=====================\\nVideo 3\\nTitle: Fireside chat with Jason Calacanis & Brad Gerstner hosted by Mubadala’s Ibrahim Ajami\\nView Count: 96371\\nTopic: State of Technology Industry\\nTheme : Advice for Founders during a market correction\\nSummary: In a Fireside conversation between Jason Calacanis and Brad Gerstner, the two discuss the current state of the technology industry and the ongoing market correction. Gerstner advises founders to focus on being efficient, creative, and obsessed with their product and customers. He notes that during periods of excess liquidity, too many companies are funded, and competition erodes natural profit, making it harder for founders to succeed. Calacanis adds that founders should have relentless focus, especially during difficult times, and that execution is the only thing that matters. They both agree that the current market correction is healthy for the industry and will separate the truly dedicated founders from those seeking a quick profit.\\n=====================\\nVideo 4\\nTitle: GPT-4 web browsing, plugin demos, AI layoffs + more with Sunny Madra & Vinny Lingham\\nView Count: 92599\\nTopic: AI Roundtable\\nTheme : Discussing the release of GPT-4 web browsing with plugin demos and AI layoffs\\nSummary: In this episode of This Week in Startups, Sunny Madra and Vinny Lingham discuss the release of GPT-4 web browsing with plugin demos and its potential use cases. They demonstrate how the technology can be used to create job descriptions, analyze code, and find interesting tech stories. The discussion also touches on the current state of AI development, with the hosts noting the increasing popularity of AI and the number of entrepreneurs focusing on it. The episode also mentions recent AI-related layoffs in the industry. Overall, the discussion centers on the potential of AI and its impact on various industries.\\n=====================\""
      ]
     },
     "execution_count": 76,
     "metadata": {},
     "output_type": "execute_result"
    }
   ],
   "source": [
    "good_vids_prompt_str"
   ]
  },
  {
   "cell_type": "code",
   "execution_count": 77,
   "metadata": {},
   "outputs": [
    {
     "name": "stdout",
     "output_type": "stream",
     "text": [
      "\n",
      "\n",
      "\u001b[1m> Entering new LLMChain chain...\u001b[0m\n",
      "Prompt after formatting:\n",
      "\u001b[32;1m\u001b[1;3m You are helpful AI assistant that helps to increase the engagement of youtube videos by analyzing the scripts of old videos.Looking at the given videos below in High_engagement_Videos and Low_engagement_videos sections,come up with new ideas for next videos.    \n",
      "High_Engagement_Videos:\n",
      "Video 1\n",
      "Title: ChatGPT vs Hollywood writers and the WGA strike with Lon Harris\n",
      "View Count: 95554\n",
      "Topic: Writer's Strike\n",
      "Theme : Impact of streaming on writer's career\n",
      "Summary: The writer's strike is impacting the entertainment industry as writers are demanding better pay and working conditions. The rise of streaming services has changed the landscape of the industry, with shorter seasons and fewer full-time writing positions. While rates have not dipped dramatically, writers are working for less time and finding it harder to build a full career. The competition for jobs is increasing, and many writers are now freelancers who move from one gig to another. This has led to a shortage of showrunners and head writers, making it difficult to train the next generation of talent. The strike is highlighting the need for better compensation and working conditions for writers in the industry.\n",
      "=====================\n",
      "Video 2\n",
      "Title: Demoing Google’s MusicLM, AssemblyAI, and other AI tools with Sunny Madra\n",
      "View Count: 104069\n",
      "Topic: AI Tools for Music Generation\n",
      "Theme : Exploring the capabilities of AI in generating music\n",
      "Summary: In this episode of This Week in Startups, Sunny Madra demonstrates Google's MusicLM, an AI model that generates music based on prompts. The model has been trained on a library of copyrighted music and can generate music based on user prompts. Madra showcases various prompts such as Tulum beach party with cyberpunk, Atlanta trap music with a New York 80s flair, and more. The discussion also touches on the potential applications of AI-generated music in the music industry. The episode also features AssemblyAI, an AI-powered transcription service and other AI tools.\n",
      "=====================\n",
      "Video 3\n",
      "Title: Fireside chat with Jason Calacanis & Brad Gerstner hosted by Mubadala’s Ibrahim Ajami\n",
      "View Count: 96371\n",
      "Topic: State of Technology Industry\n",
      "Theme : Advice for Founders during a market correction\n",
      "Summary: In a Fireside conversation between Jason Calacanis and Brad Gerstner, the two discuss the current state of the technology industry and the ongoing market correction. Gerstner advises founders to focus on being efficient, creative, and obsessed with their product and customers. He notes that during periods of excess liquidity, too many companies are funded, and competition erodes natural profit, making it harder for founders to succeed. Calacanis adds that founders should have relentless focus, especially during difficult times, and that execution is the only thing that matters. They both agree that the current market correction is healthy for the industry and will separate the truly dedicated founders from those seeking a quick profit.\n",
      "=====================\n",
      "Video 4\n",
      "Title: GPT-4 web browsing, plugin demos, AI layoffs + more with Sunny Madra & Vinny Lingham\n",
      "View Count: 92599\n",
      "Topic: AI Roundtable\n",
      "Theme : Discussing the release of GPT-4 web browsing with plugin demos and AI layoffs\n",
      "Summary: In this episode of This Week in Startups, Sunny Madra and Vinny Lingham discuss the release of GPT-4 web browsing with plugin demos and its potential use cases. They demonstrate how the technology can be used to create job descriptions, analyze code, and find interesting tech stories. The discussion also touches on the current state of AI development, with the hosts noting the increasing popularity of AI and the number of entrepreneurs focusing on it. The episode also mentions recent AI-related layoffs in the industry. Overall, the discussion centers on the potential of AI and its impact on various industries.\n",
      "=====================\n",
      "    \n",
      "Low_Engagement_Videos:\n",
      "Video 1\n",
      "Title: Banking crisis impact, more Meta cuts, and GPT-4 with Sunny Madra and Vinny Lingham\n",
      "View Count: 20414\n",
      "Topic: Banking crisis\n",
      "Theme : Impact of Silicon Valley Bank shutdown on startups and banking industry\n",
      "Summary: Sunny Madra and Vinny Lingham discuss the impact of the Silicon Valley Bank shutdown on startups and the banking industry. They talk about the anxiety and uncertainty among entrepreneurs and investors, the lack of clarity from banks and regulators, and the $620 billion of unrealized losses due to the rise in interest rates. They also touch on the potential adoption of a CBDC by the US and the impact of social media on banking. The discussion includes tips on how to protect startups and treasuries in these changing times and how to play the startup game with changing rules.\n",
      "=====================\n",
      "Video 2\n",
      "Title: Bing dodges $100B bullet & IVP's Tom Loverro on the looming startup collapse\n",
      "View Count: 20514\n",
      "Topic: Data sharing by apps\n",
      "Theme : Privacy concerns and need for federal legislation\n",
      "Summary: A recent report by The Washington Post reveals that 11 companies have been selling bundles of health data, including information on antidepressants, insomnia, attention issues, Alzheimer's disease, and bladder control difficulties. This data is being shared by app makers and other companies legally, as HIPAA rules only restrict how covered health entities share American health data. The data brokers are offering personal identifiable information like names, addresses, and incomes of people, and are even showing lists called 'anxiety sufferers' and 'consumers with clinical depression in the United States.' The harms of data sharing include privacy concerns and the possibility of being wrongly targeted with advertising. The discussion highlights the need for federal privacy legislation in the country.\n",
      "=====================\n",
      "Video 3\n",
      "Title: Coinbase cuts 20%, Microsoft to invest $10B into OpenAI & Ascend Elements CEO Mike O’Kronley\n",
      "View Count: 30715\n",
      "Topic: Crypto layoffs and Microsoft-OpenAI partnership\n",
      "Theme : Impact of economic downturn on tech industry and climate startups\n",
      "Summary: Coinbase announces a 20% cut in its workforce, while CEO Brian Armstrong warns of more layoffs in the crypto industry. Microsoft announces a $10 billion investment in OpenAI, which is spending billions on cloud computing with Microsoft. The episode also features discussions on climate tech and interview with Michael Crowley, CEO of Ascend Elements, on battery recycling and creating new battery feedstock for electric vehicles.\n",
      "=====================\n",
      "Video 4\n",
      "Title: Logan Paul & CryptoZoo’s alleged scam breakdown with Coffeezilla + OK Boomer with Em Herrera\n",
      "View Count: 14828\n",
      "Topic: Logan Paul and CryptoZoo Scam\n",
      "Theme : Investigative Journalism and Scam Awareness\n",
      "Summary: Coffeezilla, a YouTuber and investigative journalist, joins This Week in Startups to discuss the alleged scam involving CryptoZoo and Logan Paul. Coffeezilla's channel focuses on uncovering scams and deceptive marketing, particularly in the online ecosystem. The discussion centers around the promises made by CryptoZoo, the involvement of Logan Paul, and the subsequent fallout. The topic highlights the need for scam awareness and the importance of investigative journalism in uncovering fraudulent activities.\n",
      "=====================\n",
      "    \n",
      "Make sure to return at least 3 new ideas and return your response in the json format given below. Do not repeat the already existing topics.\n",
      "{\"new_ideas\": [{\"topic\": \"topic 1 here\", \"theme\": \"theme 1 here\"}, {\"topic\": \"topic 2 here\", \"theme\": \"theme 2 here\"}]}\n",
      "\n",
      "Look at the titles of videos, extract the guest names from them, and understand the common patterns and attributes.Based on the commonalities and view count of videos, create new video ideas.The new videos should not have any content from Low_Engagement_Videos.Make sure to not include any speaker name in your suggested video topics or themes.\n",
      "If you don't know the answer, just say \"Hmm, I'm not sure.\"Don't try to make up an answer. \n",
      "\u001b[0m\n",
      "\n",
      "\u001b[1m> Finished chain.\u001b[0m\n"
     ]
    }
   ],
   "source": [
    "response_json = json.dumps(\n",
    "    {\n",
    "        \"new_ideas\": [\n",
    "            {\"topic\": \"topic 1 here\", \"theme\": \"theme 1 here\"},\n",
    "            {\"topic\": \"topic 2 here\", \"theme\": \"theme 2 here\"},\n",
    "        ]\n",
    "    }\n",
    ")\n",
    "prompt_template = \"\"\" You are helpful AI assistant that helps to increase the engagement of youtube videos by analyzing the scripts of old videos.\\\n",
    "Looking at the given videos below in High_engagement_Videos and Low_engagement_videos sections,\\\n",
    "come up with new ideas for next videos.\\\n",
    "    \n",
    "High_Engagement_Videos:\n",
    "{good_perf_vids}\n",
    "    \n",
    "Low_Engagement_Videos:\n",
    "{bad_perf_vids}\n",
    "    \n",
    "Make sure to return at least 3 new ideas and return your response in the json format given below. Do not repeat the already existing topics.\n",
    "{response_json}\n",
    "\n",
    "Look at the titles of videos, extract the guest names from them, and understand the common patterns and attributes.\\\n",
    "Based on the commonalities and view count of videos, create new video ideas.\\\n",
    "The new videos should not have any content from Low_Engagement_Videos.\\\n",
    "Make sure to not include any speaker name in your suggested video topics or themes.\n",
    "If you don't know the answer, just say \"Hmm, I'm not sure.\"\\\n",
    "Don't try to make up an answer. \n",
    "\"\"\"\n",
    "llm = ChatOpenAI(model=\"gpt-3.5-turbo\", temperature=0.5)\n",
    "PROMPT = PromptTemplate(\n",
    "    template=prompt_template,\n",
    "    input_variables=[\"good_perf_vids\", \"bad_perf_vids\", \"response_json\"],\n",
    ")\n",
    "final_chain = LLMChain(llm=llm, prompt=PROMPT, verbose=True)\n",
    "res = final_chain.run(\n",
    "    {\n",
    "        \"good_perf_vids\": good_vids_prompt_str,\n",
    "        \"bad_perf_vids\": bad_vids_prompt_str,\n",
    "        \"response_json\": response_json,\n",
    "    }\n",
    ")"
   ]
  },
  {
   "cell_type": "code",
   "execution_count": 78,
   "metadata": {},
   "outputs": [
    {
     "name": "stdout",
     "output_type": "stream",
     "text": [
      "{   'new_ideas': [   {   'theme': 'Exploring the potential of VR technology in '\n",
      "                                  'creating immersive experiences for viewers',\n",
      "                         'topic': 'The Future of Virtual Reality in '\n",
      "                                  'Entertainment Industry'},\n",
      "                     {   'theme': 'Discussing the ethical implications of '\n",
      "                                  'using AI in healthcare and its impact on '\n",
      "                                  'patient care',\n",
      "                         'topic': 'The Ethics of AI in Healthcare'},\n",
      "                     {   'theme': 'Analyzing the growth of social audio '\n",
      "                                  'platforms and its impact on traditional '\n",
      "                                  'audio formats and user behavior',\n",
      "                         'topic': 'The Rise of Social Audio: Opportunities and '\n",
      "                                  'Challenges'}]}\n"
     ]
    }
   ],
   "source": [
    "import pprint\n",
    "\n",
    "pp = pprint.PrettyPrinter(indent=4)\n",
    "\n",
    "pp.pprint(json.loads(res))"
   ]
  }
 ],
 "metadata": {
  "kernelspec": {
   "display_name": "Python 3",
   "language": "python",
   "name": "python3"
  },
  "language_info": {
   "codemirror_mode": {
    "name": "ipython",
    "version": 3
   },
   "file_extension": ".py",
   "mimetype": "text/x-python",
   "name": "python",
   "nbconvert_exporter": "python",
   "pygments_lexer": "ipython3",
   "version": "3.8.16"
  },
  "orig_nbformat": 4
 },
 "nbformat": 4,
 "nbformat_minor": 2
}
