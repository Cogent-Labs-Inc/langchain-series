{
 "cells": [
  {
   "attachments": {},
   "cell_type": "markdown",
   "metadata": {},
   "source": [
    "The provided code is a class called \"Summarizer\" that uses the Langchain library to summarize YouTube videos. It has the following key functionalities:\n",
    "\n",
    "Loading Data: The \\_load_data() method utilizes the YoutubeLoader class from the Langchain library to load YouTube video data, including the video's content and metadata.\n",
    "\n",
    "Chunking Data: The create_chunks() method splits the video content into smaller text chunks using the RecursiveCharacterTextSplitter class. This helps in processing large text inputs more efficiently.\n",
    "\n",
    "Summarizing: The summarize() method initializes a summarization chain from the Langchain library using the load_summarize_chain() function. It then asynchronously runs the summarization chain on the text chunks generated earlier using the \\_chain_run() method. The summary result is collected and returned along with the video metadata.\n",
    "\n",
    "Overall, this code provides a convenient way to summarize YouTube videos by leveraging Langchain's text processing capabilities.\n"
   ]
  },
  {
   "cell_type": "code",
   "execution_count": 6,
   "metadata": {},
   "outputs": [],
   "source": [
    "import asyncio\n",
    "from langchain.chat_models import ChatOpenAI\n",
    "from langchain.chains.summarize import load_summarize_chain\n",
    "from langchain.text_splitter import RecursiveCharacterTextSplitter\n",
    "from langchain.document_loaders import YoutubeLoader\n",
    "\n",
    "\n",
    "class Summarizer:\n",
    "    def __init__(self, url, llm):\n",
    "        self.url = url\n",
    "        self.llm = llm\n",
    "        self.doc_chunks = []\n",
    "        self.metadata = []\n",
    "\n",
    "    def _load_data(self):\n",
    "        loader = YoutubeLoader.from_youtube_url(self.url, add_video_info=True)\n",
    "\n",
    "        return loader.load()\n",
    "\n",
    "    def create_chunks(self):\n",
    "        text_splitter = RecursiveCharacterTextSplitter(\n",
    "            chunk_size=3500,\n",
    "            chunk_overlap=20,\n",
    "            length_function=len,\n",
    "        )\n",
    "        text = self._load_data()\n",
    "        self.doc_chunks = text_splitter.create_documents(\n",
    "            [doc.page_content for doc in text]\n",
    "        )\n",
    "        self.metadata = text[0].metadata\n",
    "\n",
    "        return\n",
    "\n",
    "    async def _chain_run(self, chain, docs):\n",
    "        return await chain.arun(docs)\n",
    "\n",
    "    async def summarize(self):\n",
    "        summarizer_chain = load_summarize_chain(llm=self.llm, chain_type=\"map_reduce\")\n",
    "        tasks = [self._chain_run(summarizer_chain, self.doc_chunks)]\n",
    "        summary = await asyncio.gather(*tasks)\n",
    "\n",
    "        return {\"summary\": summary[0], \"metadata\": self.metadata}"
   ]
  },
  {
   "cell_type": "code",
   "execution_count": 20,
   "metadata": {},
   "outputs": [],
   "source": [
    "import concurrent.futures\n",
    "import asyncio\n",
    "import time\n",
    "\n",
    "\n",
    "def process_summary(url):\n",
    "    llm = ChatOpenAI(model=\"gpt-3.5-turbo\", temperature=0.5)\n",
    "    summarizer = Summarizer(url, llm)\n",
    "    summarizer.create_chunks()\n",
    "\n",
    "    return asyncio.run(summarizer.summarize())\n",
    "\n",
    "\n",
    "def pool_executor(urls):\n",
    "    results = []\n",
    "\n",
    "    with concurrent.futures.ThreadPoolExecutor() as executor:\n",
    "        # Submit each URL to the executor\n",
    "        futures = [executor.submit(process_summary, url) for url in urls]\n",
    "\n",
    "        # Wait for all futures to complete\n",
    "        for future in concurrent.futures.as_completed(futures):\n",
    "            try:\n",
    "                result = future.result()\n",
    "                results.append(result)\n",
    "            except Exception as e:\n",
    "                print(f\"Error processing URL: {e}\")\n",
    "\n",
    "    return results"
   ]
  },
  {
   "cell_type": "code",
   "execution_count": 23,
   "metadata": {},
   "outputs": [
    {
     "name": "stderr",
     "output_type": "stream",
     "text": [
      "Retrying langchain.chat_models.openai.acompletion_with_retry.<locals>._completion_with_retry in 1.0 seconds as it raised RateLimitError: That model is currently overloaded with other requests. You can retry your request, or contact us through our help center at help.openai.com if the error persists. (Please include the request ID 11b9bac68b83712f1839ff3d060be04c in your message.).\n",
      "Retrying langchain.chat_models.openai.acompletion_with_retry.<locals>._completion_with_retry in 1.0 seconds as it raised Timeout: Request timed out.\n",
      "Retrying langchain.chat_models.openai.acompletion_with_retry.<locals>._completion_with_retry in 1.0 seconds as it raised Timeout: Request timed out.\n",
      "Retrying langchain.chat_models.openai.acompletion_with_retry.<locals>._completion_with_retry in 1.0 seconds as it raised RateLimitError: That model is currently overloaded with other requests. You can retry your request, or contact us through our help center at help.openai.com if the error persists. (Please include the request ID b86a0ec9bbf5b020fcaba66e8fc97e2b in your message.).\n",
      "Retrying langchain.chat_models.openai.acompletion_with_retry.<locals>._completion_with_retry in 1.0 seconds as it raised RateLimitError: That model is currently overloaded with other requests. You can retry your request, or contact us through our help center at help.openai.com if the error persists. (Please include the request ID c3f5d558870c979b0c5560e02997d291 in your message.).\n"
     ]
    }
   ],
   "source": [
    "high_engagement_vids_urls = [\n",
    "    \"https://www.youtube.com/watch?v=_8bMMqy37y8&ab_channel=ThisWeekinStartups\",\n",
    "    \"https://www.youtube.com/watch?v=1SWEF-lyW28&ab_channel=ThisWeekinStartups\",\n",
    "    \"https://www.youtube.com/watch?v=oc5tHbEK0IQ&ab_channel=ThisWeekinStartups\",\n",
    "    \"https://www.youtube.com/watch?v=jrd4snFDSVA&ab_channel=ThisWeekinStartups\",\n",
    "]\n",
    "low_engagement_urls = [\n",
    "    \"https://www.youtube.com/watch?v=UeIV4KcSUlk\",\n",
    "    \"https://www.youtube.com/watch?v=hNcLMN_bZCM\",\n",
    "    \"https://www.youtube.com/watch?v=ANd4jPLnMAU\",\n",
    "    \"https://www.youtube.com/watch?v=J8YnxrGEzT4\",\n",
    "]\n",
    "low_engagement_vids_urls = [\n",
    "    \"https://www.youtube.com/watch?v=UeIV4KcSUlk\",\n",
    "    \"https://www.youtube.com/watch?v=hNcLMN_bZCM\",\n",
    "    \"https://www.youtube.com/watch?v=ANd4jPLnMAU\",\n",
    "    \"https://www.youtube.com/watch?v=J8YnxrGEzT4\",\n",
    "]\n",
    "\n",
    "high_engagement_summaries = pool_executor(high_engagement_vids_urls)\n",
    "\n",
    "low_engagement_summaries = pool_executor(low_engagement_vids_urls)"
   ]
  },
  {
   "cell_type": "code",
   "execution_count": 24,
   "metadata": {},
   "outputs": [
    {
     "data": {
      "text/plain": [
       "[{'summary': 'The hosts of \"This Week in Startups\" discuss the importance of incorporating social features into products to drive growth, the popularity of AI in Silicon Valley, and the potential impact of AI on jobs. They also discuss various AI tools and their capabilities, as well as the potential for AI in podcasting. The conversation touches on topics such as real estate, drug problems in San Francisco, and the importance of managing cash for startups. The hosts also mention various startups and events in the industry.',\n",
       "  'metadata': {'source': 'jrd4snFDSVA&ab_channel=ThisWeekinStartups',\n",
       "   'title': 'GPT-4 web browsing, plugin demos, AI layoffs + more with Sunny Madra & Vinny Lingham | E1737',\n",
       "   'description': None,\n",
       "   'view_count': 92613,\n",
       "   'thumbnail_url': 'https://i.ytimg.com/vi/jrd4snFDSVA/hq720.jpg',\n",
       "   'publish_date': datetime.datetime(2023, 5, 8, 0, 0),\n",
       "   'length': 3215,\n",
       "   'author': 'This Week in Startups'}},\n",
       " {'summary': 'The podcast discusses various AI tools and their potential impact on podcasting, including transcription tools, music creation tools, and even an AI-powered podcast generator. The speakers also discuss the challenges of copyright ownership and legal issues surrounding the use of AI in podcasting. The conversation also touches on the potential for AI to replace some podcast hosts and the importance of embracing AI technology in podcasting. Finally, the podcast host offers a VIP ticket to his upcoming event to whoever creates the best 10-minute video of him interviewing Steve Jobs.',\n",
       "  'metadata': {'source': '1SWEF-lyW28&ab_channel=ThisWeekinStartups',\n",
       "   'title': 'Demoing Google’s MusicLM, AssemblyAI, and other AI tools with Sunny Madra | E1747',\n",
       "   'description': None,\n",
       "   'view_count': 104079,\n",
       "   'thumbnail_url': 'https://i.ytimg.com/vi/1SWEF-lyW28/hq720.jpg',\n",
       "   'publish_date': datetime.datetime(2023, 5, 22, 0, 0),\n",
       "   'length': 3526,\n",
       "   'author': 'This Week in Startups'}},\n",
       " {'summary': \"The episode covers a range of topics including the writer's strike, the use of AI in writing, the importance of transparency in the entertainment industry, and the potential benefits of offering full-time employment options to writers. The speakers discuss various TV shows, movies, and streaming platforms, as well as the negative effects of excessive technology use on mental health and attention span. The episode is sponsored by various companies including Adam Brokers, Hyper Ice, and Release.\",\n",
       "  'metadata': {'source': '_8bMMqy37y8&ab_channel=ThisWeekinStartups',\n",
       "   'title': 'ChatGPT vs Hollywood writers and the WGA strike with Lon Harris | E1750',\n",
       "   'description': None,\n",
       "   'view_count': 95627,\n",
       "   'thumbnail_url': 'https://i.ytimg.com/vi/_8bMMqy37y8/hq720.jpg',\n",
       "   'publish_date': datetime.datetime(2023, 5, 25, 0, 0),\n",
       "   'length': 4611,\n",
       "   'author': 'This Week in Startups'}},\n",
       " {'summary': 'The podcast features a Fireside conversation between Brad Gerstner and Ibrahim Ajami, covering various topics including the challenges of starting a business, the current state of the technology industry, and the importance of product and customer focus. The discussion also touches on the significance of investing in companies that align with major technology trends and super cycles, the changing nature of jobs post-World War II, and the benefits of raising venture capital in Silicon Valley. The podcast is sponsored by Squarespace, Trovata, and Openphone, and includes insights from venture capitalists Jason Calacanis, Doug Leone, and Jay Cow, as well as CEO Jacob Jaber and student startup community Violet Ventures.',\n",
       "  'metadata': {'source': 'oc5tHbEK0IQ&ab_channel=ThisWeekinStartups',\n",
       "   'title': 'Fireside chat with Jason Calacanis & Brad Gerstner hosted by Mubadala’s Ibrahim Ajami | E1746',\n",
       "   'description': None,\n",
       "   'view_count': 96851,\n",
       "   'thumbnail_url': 'https://i.ytimg.com/vi/oc5tHbEK0IQ/hq720.jpg',\n",
       "   'publish_date': datetime.datetime(2023, 5, 19, 0, 0),\n",
       "   'length': 6030,\n",
       "   'author': 'This Week in Startups'}}]"
      ]
     },
     "execution_count": 24,
     "metadata": {},
     "output_type": "execute_result"
    }
   ],
   "source": [
    "high_engagement_summaries"
   ]
  },
  {
   "cell_type": "code",
   "execution_count": 25,
   "metadata": {},
   "outputs": [
    {
     "data": {
      "text/plain": [
       "[{'summary': 'In this episode of \"This Week in Startups,\" the speakers discuss the impact of the recent banking crisis on startups and investors, the potential adoption of a CBDC by the US, risk management, and the changing startup ecosystem. They also touch on the recent layoffs at Facebook and the importance of playing the startup game according to the current rules. The episode is sponsored by Cast AI, Vanta, and OrgSpace. The speakers highlight the need for transparency and regulation in the banking and crypto industries, as well as the importance of scenario planning for startups. They also discuss the benefits of innovative tools and technologies for investors and startups.',\n",
       "  'metadata': {'source': 'UeIV4KcSUlk',\n",
       "   'title': 'Banking crisis impact, more Meta cuts, and GPT-4 with Sunny Madra and Vinny Lingham | E1700',\n",
       "   'description': None,\n",
       "   'view_count': 20415,\n",
       "   'thumbnail_url': 'https://i.ytimg.com/vi/UeIV4KcSUlk/hq720.jpg',\n",
       "   'publish_date': datetime.datetime(2023, 3, 16, 0, 0),\n",
       "   'length': 4973,\n",
       "   'author': 'This Week in Startups'}},\n",
       " {'summary': 'The episode of \"This Week in Startups\" covers a range of topics including severe weather conditions in the Bay Area, Coinbase\\'s layoffs, Microsoft\\'s Open AI investment, climate tech, and battery recycling. The show is sponsored by Vanta, Mixpanel, and Squarespace. The speakers discuss the potential impact of AI startups and remote work on job markets and salaries. They also discuss the growing interest in climate tech and the role of recycling lithium-ion batteries in the energy transition to address climate change. The episode ends with the speaker promoting Squarespace as a great platform for entrepreneurs and projects.',\n",
       "  'metadata': {'source': 'ANd4jPLnMAU',\n",
       "   'title': 'Coinbase cuts 20%, Microsoft to invest $10B into OpenAI & Ascend Elements CEO Mike O’Kronley | E1654',\n",
       "   'description': None,\n",
       "   'view_count': 30715,\n",
       "   'thumbnail_url': 'https://i.ytimg.com/vi/ANd4jPLnMAU/hq720.jpg',\n",
       "   'publish_date': datetime.datetime(2023, 1, 10, 0, 0),\n",
       "   'length': 5704,\n",
       "   'author': 'This Week in Startups'}},\n",
       " {'summary': 'This Week in Startups discusses the issue of data brokers collecting and selling personal health information, the inaccuracies of generative AI, the predicted \"mass extinction event\" for startups in 2023-2024, the importance of fundraising and governance for startups, the focus on survival rather than anchoring to past valuations, the importance of being a good steward of capital and achieving product-market fit, and the challenges of attracting and retaining top talent. The episode also features sponsors Squarespace, House of Macadamias, and Fitbod.',\n",
       "  'metadata': {'source': 'hNcLMN_bZCM',\n",
       "   'title': \"Bing dodges $100B bullet & IVP's Tom Loverro on the looming startup collapse | E1678\",\n",
       "   'description': None,\n",
       "   'view_count': 20514,\n",
       "   'thumbnail_url': 'https://i.ytimg.com/vi/hNcLMN_bZCM/hq720.jpg',\n",
       "   'publish_date': datetime.datetime(2023, 2, 14, 0, 0),\n",
       "   'length': 4441,\n",
       "   'author': 'This Week in Startups'}},\n",
       " {'summary': \"The article covers a range of topics, including the controversy surrounding Logan Paul's failed cryptocurrency project, fraud in cryptocurrency trading, the importance of personal cybersecurity, and predictions for consumer trends in the future. The speakers discuss the need for influencers to be thoughtful about the projects they endorse and the potential legal issues surrounding blockchain games. They also touch on the importance of reviews and the trend of individuals supporting creators financially. The article suggests that personal cybersecurity is an area ripe for investment opportunities and notes the need for authentication measures for personal and work accounts. Lastly, the speakers discuss the importance of wellness and personal relationships with technology for individuals who have their livelihood and relationships online.\",\n",
       "  'metadata': {'source': 'J8YnxrGEzT4',\n",
       "   'title': 'Logan Paul & CryptoZoo’s alleged scam breakdown with Coffeezilla + OK Boomer with Em Herrera | E1652',\n",
       "   'description': None,\n",
       "   'view_count': 14827,\n",
       "   'thumbnail_url': 'https://i.ytimg.com/vi/J8YnxrGEzT4/hq720.jpg',\n",
       "   'publish_date': datetime.datetime(2023, 1, 6, 0, 0),\n",
       "   'length': 4439,\n",
       "   'author': 'This Week in Startups'}}]"
      ]
     },
     "execution_count": 25,
     "metadata": {},
     "output_type": "execute_result"
    }
   ],
   "source": [
    "low_engagement_summaries"
   ]
  },
  {
   "cell_type": "code",
   "execution_count": 61,
   "metadata": {},
   "outputs": [],
   "source": [
    "def format_summaries(data):\n",
    "    formatted_strings = []\n",
    "    for i, obj in enumerate(data, start=1):\n",
    "        summary = obj[\"summary\"]\n",
    "        views = obj[\"metadata\"][\"view_count\"]\n",
    "        title = obj[\"metadata\"][\"title\"].split(\"|\")[0].strip()\n",
    "\n",
    "        formatted_string = (\n",
    "            f\"Video {i}\\nTitle: {title}\\nView Count: {views}\\nSummary: {summary}\\n\"\n",
    "        )\n",
    "        formatted_strings.append(formatted_string)\n",
    "\n",
    "    result = \"\\n\".join(formatted_strings)\n",
    "    return result\n",
    "\n",
    "\n",
    "hien_prompt_str = format_summaries(high_engagement_summaries)\n",
    "lowen_prompt_str = format_summaries(low_engagement_summaries)"
   ]
  },
  {
   "cell_type": "code",
   "execution_count": 31,
   "metadata": {},
   "outputs": [
    {
     "data": {
      "text/plain": [
       "'Video 1\\nTitle: GPT-4 web browsing, plugin demos, AI layoffs + more with Sunny Madra & Vinny Lingham\\nView Count: 92613\\nSummary: The hosts of \"This Week in Startups\" discuss the importance of incorporating social features into products to drive growth, the popularity of AI in Silicon Valley, and the potential impact of AI on jobs. They also discuss various AI tools and their capabilities, as well as the potential for AI in podcasting. The conversation touches on topics such as real estate, drug problems in San Francisco, and the importance of managing cash for startups. The hosts also mention various startups and events in the industry.\\n\\nVideo 2\\nTitle: Demoing Google’s MusicLM, AssemblyAI, and other AI tools with Sunny Madra\\nView Count: 104079\\nSummary: The podcast discusses various AI tools and their potential impact on podcasting, including transcription tools, music creation tools, and even an AI-powered podcast generator. The speakers also discuss the challenges of copyright ownership and legal issues surrounding the use of AI in podcasting. The conversation also touches on the potential for AI to replace some podcast hosts and the importance of embracing AI technology in podcasting. Finally, the podcast host offers a VIP ticket to his upcoming event to whoever creates the best 10-minute video of him interviewing Steve Jobs.\\n\\nVideo 3\\nTitle: ChatGPT vs Hollywood writers and the WGA strike with Lon Harris\\nView Count: 95627\\nSummary: The episode covers a range of topics including the writer\\'s strike, the use of AI in writing, the importance of transparency in the entertainment industry, and the potential benefits of offering full-time employment options to writers. The speakers discuss various TV shows, movies, and streaming platforms, as well as the negative effects of excessive technology use on mental health and attention span. The episode is sponsored by various companies including Adam Brokers, Hyper Ice, and Release.\\n\\nVideo 4\\nTitle: Fireside chat with Jason Calacanis & Brad Gerstner hosted by Mubadala’s Ibrahim Ajami\\nView Count: 96851\\nSummary: The podcast features a Fireside conversation between Brad Gerstner and Ibrahim Ajami, covering various topics including the challenges of starting a business, the current state of the technology industry, and the importance of product and customer focus. The discussion also touches on the significance of investing in companies that align with major technology trends and super cycles, the changing nature of jobs post-World War II, and the benefits of raising venture capital in Silicon Valley. The podcast is sponsored by Squarespace, Trovata, and Openphone, and includes insights from venture capitalists Jason Calacanis, Doug Leone, and Jay Cow, as well as CEO Jacob Jaber and student startup community Violet Ventures.\\n'"
      ]
     },
     "execution_count": 31,
     "metadata": {},
     "output_type": "execute_result"
    }
   ],
   "source": [
    "hien_prompt_str"
   ]
  },
  {
   "cell_type": "code",
   "execution_count": 63,
   "metadata": {},
   "outputs": [],
   "source": [
    "from langchain.prompts import PromptTemplate\n",
    "from langchain.chains import LLMChain\n",
    "from langchain.chat_models import ChatOpenAI\n",
    "\n",
    "prompt_template = \"\"\" You are helpful AI assistant that helps to increase the engagement of youtube videos by analyzing the scripts of old videos.\\\n",
    "Looking at the given videos below in High_engagement_Videos and Low_engagement_videos sections,\\\n",
    "come up with new ideas for next videos.\\\n",
    "    \n",
    "High_Engagement_Videos:\n",
    "{high_perf_vids}\n",
    "    \n",
    "Low_Engagement_Videos:\n",
    "{low_perf_vids}\n",
    "\n",
    "Given the above High_Engagement_Videos and Low_Engagement_Videos, generate new ideas and themes.\n",
    "New ideas should be related to the High_Engagement_Videos by keeping the titles and summaries of the episodes in context and must be based on\\\n",
    "the common patterns between the High_Engagement_Videos and the guests in those episodes.\\\n",
    "The new videos should not have any content from Low_Engagement_Videos.\\\n",
    "Make sure to not include any speaker name in your suggested video topics or themes.\n",
    "Make sure to return at least 10 new ideas. Your response must be a csv file which contains the following columns:\\\n",
    "Topic, Theme, Summary. Summary should contain points to talk on the show and must be 100 words at max. Use | as a seperator\\\n",
    "and do not append any extra line in your csv response. Each row must have proper data and columns in each row must be three.\n",
    "If you don't know the answer, just say \"Hmm, I'm not sure.\"\\\n",
    "Don't try to make up an answer. \n",
    "\"\"\"\n",
    "llm = ChatOpenAI(model=\"gpt-3.5-turbo\", temperature=0.5)\n",
    "PROMPT = PromptTemplate(\n",
    "    template=prompt_template,\n",
    "    input_variables=[\"high_perf_vids\", \"low_perf_vids\"],\n",
    ")\n",
    "ideas_chain = LLMChain(llm=llm, prompt=PROMPT, verbose=True)"
   ]
  },
  {
   "cell_type": "code",
   "execution_count": 64,
   "metadata": {},
   "outputs": [
    {
     "name": "stdout",
     "output_type": "stream",
     "text": [
      "\n",
      "\n",
      "\u001b[1m> Entering new LLMChain chain...\u001b[0m\n",
      "Prompt after formatting:\n",
      "\u001b[32;1m\u001b[1;3m You are helpful AI assistant that helps to increase the engagement of youtube videos by analyzing the scripts of old videos.Looking at the given videos below in High_engagement_Videos and Low_engagement_videos sections,come up with new ideas for next videos.    \n",
      "High_Engagement_Videos:\n",
      "Video 1\n",
      "Title: GPT-4 web browsing, plugin demos, AI layoffs + more with Sunny Madra & Vinny Lingham\n",
      "View Count: 92613\n",
      "Summary: The hosts of \"This Week in Startups\" discuss the importance of incorporating social features into products to drive growth, the popularity of AI in Silicon Valley, and the potential impact of AI on jobs. They also discuss various AI tools and their capabilities, as well as the potential for AI in podcasting. The conversation touches on topics such as real estate, drug problems in San Francisco, and the importance of managing cash for startups. The hosts also mention various startups and events in the industry.\n",
      "\n",
      "Video 2\n",
      "Title: Demoing Google’s MusicLM, AssemblyAI, and other AI tools with Sunny Madra\n",
      "View Count: 104079\n",
      "Summary: The podcast discusses various AI tools and their potential impact on podcasting, including transcription tools, music creation tools, and even an AI-powered podcast generator. The speakers also discuss the challenges of copyright ownership and legal issues surrounding the use of AI in podcasting. The conversation also touches on the potential for AI to replace some podcast hosts and the importance of embracing AI technology in podcasting. Finally, the podcast host offers a VIP ticket to his upcoming event to whoever creates the best 10-minute video of him interviewing Steve Jobs.\n",
      "\n",
      "Video 3\n",
      "Title: ChatGPT vs Hollywood writers and the WGA strike with Lon Harris\n",
      "View Count: 95627\n",
      "Summary: The episode covers a range of topics including the writer's strike, the use of AI in writing, the importance of transparency in the entertainment industry, and the potential benefits of offering full-time employment options to writers. The speakers discuss various TV shows, movies, and streaming platforms, as well as the negative effects of excessive technology use on mental health and attention span. The episode is sponsored by various companies including Adam Brokers, Hyper Ice, and Release.\n",
      "\n",
      "Video 4\n",
      "Title: Fireside chat with Jason Calacanis & Brad Gerstner hosted by Mubadala’s Ibrahim Ajami\n",
      "View Count: 96851\n",
      "Summary: The podcast features a Fireside conversation between Brad Gerstner and Ibrahim Ajami, covering various topics including the challenges of starting a business, the current state of the technology industry, and the importance of product and customer focus. The discussion also touches on the significance of investing in companies that align with major technology trends and super cycles, the changing nature of jobs post-World War II, and the benefits of raising venture capital in Silicon Valley. The podcast is sponsored by Squarespace, Trovata, and Openphone, and includes insights from venture capitalists Jason Calacanis, Doug Leone, and Jay Cow, as well as CEO Jacob Jaber and student startup community Violet Ventures.\n",
      "\n",
      "    \n",
      "Low_Engagement_Videos:\n",
      "Video 1\n",
      "Title: Banking crisis impact, more Meta cuts, and GPT-4 with Sunny Madra and Vinny Lingham\n",
      "View Count: 20415\n",
      "Summary: In this episode of \"This Week in Startups,\" the speakers discuss the impact of the recent banking crisis on startups and investors, the potential adoption of a CBDC by the US, risk management, and the changing startup ecosystem. They also touch on the recent layoffs at Facebook and the importance of playing the startup game according to the current rules. The episode is sponsored by Cast AI, Vanta, and OrgSpace. The speakers highlight the need for transparency and regulation in the banking and crypto industries, as well as the importance of scenario planning for startups. They also discuss the benefits of innovative tools and technologies for investors and startups.\n",
      "\n",
      "Video 2\n",
      "Title: Coinbase cuts 20%, Microsoft to invest $10B into OpenAI & Ascend Elements CEO Mike O’Kronley\n",
      "View Count: 30715\n",
      "Summary: The episode of \"This Week in Startups\" covers a range of topics including severe weather conditions in the Bay Area, Coinbase's layoffs, Microsoft's Open AI investment, climate tech, and battery recycling. The show is sponsored by Vanta, Mixpanel, and Squarespace. The speakers discuss the potential impact of AI startups and remote work on job markets and salaries. They also discuss the growing interest in climate tech and the role of recycling lithium-ion batteries in the energy transition to address climate change. The episode ends with the speaker promoting Squarespace as a great platform for entrepreneurs and projects.\n",
      "\n",
      "Video 3\n",
      "Title: Bing dodges $100B bullet & IVP's Tom Loverro on the looming startup collapse\n",
      "View Count: 20514\n",
      "Summary: This Week in Startups discusses the issue of data brokers collecting and selling personal health information, the inaccuracies of generative AI, the predicted \"mass extinction event\" for startups in 2023-2024, the importance of fundraising and governance for startups, the focus on survival rather than anchoring to past valuations, the importance of being a good steward of capital and achieving product-market fit, and the challenges of attracting and retaining top talent. The episode also features sponsors Squarespace, House of Macadamias, and Fitbod.\n",
      "\n",
      "Video 4\n",
      "Title: Logan Paul & CryptoZoo’s alleged scam breakdown with Coffeezilla + OK Boomer with Em Herrera\n",
      "View Count: 14827\n",
      "Summary: The article covers a range of topics, including the controversy surrounding Logan Paul's failed cryptocurrency project, fraud in cryptocurrency trading, the importance of personal cybersecurity, and predictions for consumer trends in the future. The speakers discuss the need for influencers to be thoughtful about the projects they endorse and the potential legal issues surrounding blockchain games. They also touch on the importance of reviews and the trend of individuals supporting creators financially. The article suggests that personal cybersecurity is an area ripe for investment opportunities and notes the need for authentication measures for personal and work accounts. Lastly, the speakers discuss the importance of wellness and personal relationships with technology for individuals who have their livelihood and relationships online.\n",
      "\n",
      "\n",
      "Given the above High_Engagement_Videos and Low_Engagement_Videos, generate new ideas and themes.\n",
      "New ideas should be related to the High_Engagement_Videos by keeping the titles and summaries of the episodes in context and must be based onthe common patterns between the High_Engagement_Videos and the guests in those episodes.The new videos should not have any content from Low_Engagement_Videos.Make sure to not include any speaker name in your suggested video topics or themes.\n",
      "Make sure to return at least 10 new ideas. Your response must be a csv file which contains the following columns:Topic, Theme, Summary. Summary should contain points to talk on the show and must be 100 words at max. Use | as a seperatorand do not append any extra line in your csv response. Each row must have proper data and columns in each row must be three.\n",
      "If you don't know the answer, just say \"Hmm, I'm not sure.\"Don't try to make up an answer. \n",
      "\u001b[0m\n"
     ]
    }
   ],
   "source": [
    "response = ideas_chain.run(\n",
    "    {\n",
    "        \"high_perf_vids\": hien_prompt_str,\n",
    "        \"low_perf_vids\": lowen_prompt_str,\n",
    "    }\n",
    ")"
   ]
  },
  {
   "cell_type": "code",
   "execution_count": null,
   "metadata": {},
   "outputs": [
    {
     "data": {
      "text/plain": [
       "'Topic | Theme | Summary\\n--- | --- | ---\\nArtificial Intelligence | Future of AI in Healthcare | Discuss the potential of AI in healthcare, including diagnosis, treatment, and patient care. Touch on the ethical concerns surrounding the use of AI in healthcare and the need for transparency and regulation. Highlight the benefits of AI in improving patient outcomes and reducing healthcare costs. | \\nEntrepreneurship | Building a Successful Startup Ecosystem | Discuss the key components of a successful startup ecosystem, including access to capital, talent, and mentorship. Touch on the importance of government support and policies that promote entrepreneurship. Highlight successful startup ecosystems around the world and the lessons that can be learned from them. | \\nTechnology Trends | The Future of Podcasting | Discuss the potential of AI in podcasting, including transcription tools, music creation tools, and even an AI-powered podcast generator. Touch on the challenges of copyright ownership and legal issues surrounding the use of AI in podcasting. Highlight successful podcasting platforms and the lessons that can be learned from them. | \\nInvesting | Investing in Emerging Technologies | Discuss the potential of emerging technologies such as AI, blockchain, and quantum computing. Touch on the risks and rewards of investing in these technologies and the importance of diversification. Highlight successful companies in these fields and the lessons that can be learned from them. | \\nTechnology and Society | The Impact of Technology on Mental Health | Discuss the negative effects of excessive technology use on mental health and attention span. Touch on the importance of mindfulness and self-care in the digital age. Highlight successful initiatives and programs that promote digital wellness. | \\nEntrepreneurship | The Importance of Customer Focus | Discuss the importance of putting the customer at the center of the business. Touch on the benefits of customer feedback and the role of customer service in building a successful business. Highlight successful companies that prioritize customer focus and the lessons that can be learned from them. | \\nTechnology Trends | The Future of Work | Discuss the changing nature of work and the skills that will be required in the future. Touch on the potential impact of AI and automation on jobs and the importance of reskilling and upskilling. Highlight successful companies and initiatives that are preparing for the future of work. | \\nInvesting | Investing in Clean Energy | Discuss the potential of clean energy technologies such as solar, wind, and hydrogen. Touch on the importance of government support and policies that promote clean energy. Highlight successful companies in the clean energy sector and the lessons that can be learned from them. | \\nTechnology and Society | The Ethics of AI | Discuss the ethical concerns surrounding the use of AI, including bias, privacy, and accountability. Touch on the need for transparency and regulation in the development and deployment of AI. Highlight successful initiatives and programs that promote ethical AI. | \\nEntrepreneurship | Scaling Your Startup | Discuss the challenges and strategies for scaling a startup, including access to capital, talent, and technology. Touch on the importance of product-market fit and customer feedback in scaling a business. Highlight successful companies that have successfully scaled and the lessons that can be learned from them. |'"
      ]
     },
     "execution_count": 52,
     "metadata": {},
     "output_type": "execute_result"
    }
   ],
   "source": [
    "response"
   ]
  },
  {
   "cell_type": "code",
   "execution_count": null,
   "metadata": {},
   "outputs": [],
   "source": [
    "import pandas as pd\n",
    "from io import StringIO\n",
    "\n",
    "csv_file = StringIO(response)\n",
    "# Read the CSV data and create a DataFrame\n",
    "df = pd.read_csv(csv_file, sep=\"|\")"
   ]
  }
 ],
 "metadata": {
  "kernelspec": {
   "display_name": "Python 3",
   "language": "python",
   "name": "python3"
  },
  "language_info": {
   "codemirror_mode": {
    "name": "ipython",
    "version": 3
   },
   "file_extension": ".py",
   "mimetype": "text/x-python",
   "name": "python",
   "nbconvert_exporter": "python",
   "pygments_lexer": "ipython3",
   "version": "3.8.16"
  },
  "orig_nbformat": 4
 },
 "nbformat": 4,
 "nbformat_minor": 2
}
