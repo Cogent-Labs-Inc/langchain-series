{
 "cells": [
  {
   "cell_type": "markdown",
   "id": "e2c4b72a",
   "metadata": {
    "collapsed": false,
    "jupyter": {
     "outputs_hidden": false
    }
   },
   "source": [
    "# Timetable Scheduler for University Classes\n",
    "\n",
    "Timetable scheduler is a `Generative-AI` based app, developed in `langchain` using OpenAI `gpt-4` model. It takes subjects and students data in CSV format and generates schedule for each individual student."
   ]
  },
  {
   "cell_type": "code",
   "execution_count": 3,
   "id": "a601772a",
   "metadata": {
    "ExecuteTime": {
     "end_time": "2023-07-25T10:18:24.478753Z",
     "start_time": "2023-07-25T10:18:24.476285Z"
    }
   },
   "outputs": [],
   "source": [
    "import os\n",
    "from dotenv import load_dotenv\n",
    "\n",
    "load_dotenv()\n",
    "os.environ[\"OPENAI_API_KEY\"] = os.getenv(\"OPENAI_API_KEY\")"
   ]
  },
  {
   "cell_type": "code",
   "execution_count": 4,
   "id": "9399578c",
   "metadata": {
    "ExecuteTime": {
     "end_time": "2023-07-25T10:18:29.593723Z",
     "start_time": "2023-07-25T10:18:29.590850Z"
    },
    "collapsed": false,
    "jupyter": {
     "outputs_hidden": false
    }
   },
   "outputs": [],
   "source": [
    "import csv\n",
    "\n",
    "def read_data_from_csv(filename):\n",
    "    data = []\n",
    "\n",
    "    with open(filename, 'r') as csvfile:\n",
    "        return list(csv.DictReader(csvfile))"
   ]
  },
  {
   "cell_type": "code",
   "execution_count": 5,
   "id": "fcd7d1c6",
   "metadata": {
    "ExecuteTime": {
     "end_time": "2023-07-25T10:18:30.818170Z",
     "start_time": "2023-07-25T10:18:30.815866Z"
    },
    "collapsed": false,
    "jupyter": {
     "outputs_hidden": false
    }
   },
   "outputs": [],
   "source": [
    "subjects_data = read_data_from_csv(\"subjects.csv\")\n",
    "students_data = read_data_from_csv(\"students.csv\")"
   ]
  },
  {
   "cell_type": "code",
   "execution_count": 6,
   "id": "5e939b6e",
   "metadata": {
    "ExecuteTime": {
     "end_time": "2023-07-25T10:20:16.288610Z",
     "start_time": "2023-07-25T10:20:06.973870Z"
    },
    "collapsed": false,
    "jupyter": {
     "outputs_hidden": false
    }
   },
   "outputs": [],
   "source": [
    "from langchain.chains import LLMChain\n",
    "from langchain.chat_models import ChatOpenAI\n",
    "from langchain.prompts.chat import (\n",
    "    ChatPromptTemplate,\n",
    "    SystemMessagePromptTemplate,\n",
    "    HumanMessagePromptTemplate,\n",
    ")\n",
    "\n",
    "chat = ChatOpenAI(model=\"gpt-4\", temperature=0)"
   ]
  },
  {
   "cell_type": "code",
   "execution_count": 9,
   "id": "187c7aba-775a-4f49-8ff7-e6f2b1b9c496",
   "metadata": {},
   "outputs": [],
   "source": [
    "system_message_prompt = SystemMessagePromptTemplate.from_template(\n",
    "    \"You are an expert university class scheduler with proficiency in interpreting JSON.\"\n",
    ")\n",
    "human_message_prompt = HumanMessagePromptTemplate.from_template(\n",
    "\"\"\"\n",
    "The following subjects` data contains subject names, the total number of classes to be attended by a student, and the available class slots for each subject.\n",
    "{subjects_data}\n",
    "\n",
    "Here is the data for a specific student, including his registered subjects and considerations. Your task is to schedule classes for these subjects.\n",
    "{student}\n",
    "\n",
    "The number of classes per week for each subject must be the same as mentioned in the data. You must make sure that classes should not overlap. If there is a conflict between the student's considerations and the scheduling, ignore the consideration. Include a brief comment at the end regarding the extent to which the considerations have been met, specifying the subject names.\n",
    "\n",
    "The timetable should be prepared in the following format:\n",
    "StudentName:\n",
    "Subject1:\n",
    "Classes list\n",
    "Subject2:\n",
    "Classes list\n",
    "Subject3:\n",
    "Classes list\n",
    "...\n",
    "\n",
    "Remember that classes must not overlap, you can ignore considerations when needed.\n",
    "\"\"\"\n",
    ")\n",
    "chat_prompt = ChatPromptTemplate.from_messages([system_message_prompt, human_message_prompt])\n",
    "chain = LLMChain(llm=chat, prompt=chat_prompt)"
   ]
  },
  {
   "cell_type": "code",
   "execution_count": 10,
   "id": "c4419a4c",
   "metadata": {
    "ExecuteTime": {
     "end_time": "2023-07-25T10:21:58.475060Z",
     "start_time": "2023-07-25T10:20:29.002146Z"
    },
    "collapsed": false,
    "jupyter": {
     "outputs_hidden": false
    }
   },
   "outputs": [
    {
     "name": "stdout",
     "output_type": "stream",
     "text": [
      "Here is the class schedule for John Doe:\n",
      "\n",
      "StudentName: John Doe\n",
      "\n",
      "Subject1: Mathematics\n",
      "Classes list:\n",
      "- Tuesday 1:00 PM - 2:30 PM\n",
      "- Tuesday 3:00 PM - 4:30 PM\n",
      "- Thursday 1:00 PM - 2:30 PM\n",
      "\n",
      "Subject2: Science\n",
      "Classes list:\n",
      "- Tuesday 9:00 AM - 10:30 AM\n",
      "- Thursday 11:00 AM - 12:30 PM\n",
      "- Friday 1:00 PM - 2:30 PM\n",
      "\n",
      "Subject3: History\n",
      "Classes list:\n",
      "- Wednesday 1:00 PM - 2:30 PM\n",
      "- Wednesday 3:00 PM - 4:30 PM\n",
      "\n",
      "Comment: The student's consideration to avoid classes on Mondays and Fridays has been partially met. For the subject Mathematics, all classes are scheduled on Tuesday and Thursday. For the subject History, all classes are scheduled on Wednesday. However, for the subject Science, one class had to be scheduled on Friday due to the limited availability of class slots and to avoid overlap with other subjects.\n",
      "\n",
      "Please note that the schedule has been prepared to ensure that there are no overlapping classes. The student's considerations were taken into account to the extent possible, but the priority was to ensure that the required number of classes per week for each subject is met. \n",
      "\n",
      "Here is the class schedule for Jane Smith:\n",
      "\n",
      "StudentName: Jane Smith\n",
      "\n",
      "Subject1: English\n",
      "Classes list:\n",
      "- Tuesday 9:00 AM - 10:30 AM\n",
      "- Wednesday 9:00 AM - 10:30 AM\n",
      "- Thursday 1:00 PM - 2:30 PM\n",
      "\n",
      "Subject2: Mathematics\n",
      "Classes list:\n",
      "- Monday 9:00 AM - 10:30 AM\n",
      "- Tuesday 3:00 PM - 4:30 PM\n",
      "- Thursday 3:00 PM - 4:30 PM\n",
      "\n",
      "Subject3: Science\n",
      "Classes list:\n",
      "- Tuesday 1:00 PM - 2:30 PM\n",
      "- Thursday 11:00 AM - 12:30 PM\n",
      "- Friday 1:00 PM - 2:30 PM\n",
      "\n",
      "The student's considerations were to prefer afternoon sessions on Tuesdays and Thursdays. This has been met to the extent possible. For English, one class is scheduled in the afternoon on Thursday. For Mathematics, two classes are scheduled in the afternoon on Tuesday and Thursday. For Science, one class is scheduled in the afternoon on Tuesday. However, due to the need to avoid class overlap and meet the required number of classes per week, not all classes could be scheduled in the afternoon on these days. \n",
      "\n",
      "Here is the class schedule for Michael Johnson:\n",
      "\n",
      "StudentName: Michael Johnson\n",
      "\n",
      "Subject1: History\n",
      "Classes list:\n",
      "- Monday 11:00 AM - 12:30 PM\n",
      "- Monday 3:00 PM - 4:30 PM\n",
      "\n",
      "Subject2: Chemistry\n",
      "Classes list:\n",
      "- Monday 1:00 PM - 2:30 PM\n",
      "- Thursday 11:00 AM - 12:30 PM\n",
      "\n",
      "Subject3: Science\n",
      "Classes list:\n",
      "- Tuesday 9:00 AM - 10:30 AM\n",
      "- Thursday 11:00 AM - 12:30 PM\n",
      "- Friday 1:00 PM - 2:30 PM\n",
      "\n",
      "Comment: The student's consideration of 'No classes on Wednesdays' has been fully met. All classes have been scheduled on days other than Wednesday. \n",
      "\n"
     ]
    }
   ],
   "source": [
    "for student in students_data:\n",
    "    response = chain.run(subjects_data=subjects_data, student=student)\n",
    "    print(response, '\\n')"
   ]
  },
  {
   "cell_type": "code",
   "execution_count": null,
   "id": "c7e87b4e",
   "metadata": {},
   "outputs": [],
   "source": []
  }
 ],
 "metadata": {
  "kernelspec": {
   "display_name": "Python 3 (ipykernel)",
   "language": "python",
   "name": "python3"
  },
  "language_info": {
   "codemirror_mode": {
    "name": "ipython",
    "version": 3
   },
   "file_extension": ".py",
   "mimetype": "text/x-python",
   "name": "python",
   "nbconvert_exporter": "python",
   "pygments_lexer": "ipython3",
   "version": "3.10.12"
  }
 },
 "nbformat": 4,
 "nbformat_minor": 5
}
