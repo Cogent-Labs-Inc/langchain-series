{
 "cells": [
  {
   "cell_type": "markdown",
   "id": "e2c4b72a",
   "metadata": {
    "collapsed": false,
    "jupyter": {
     "outputs_hidden": false
    }
   },
   "source": [
    "# Time Scheduler for Campus Classes\n",
    "\n",
    "Time scheduler is a `Generative-AI` based app, developed using OpenAI `gpt-4` model. It takes subjects and students data in CSV format and generates time schedule for each individual student."
   ]
  },
  {
   "cell_type": "code",
   "execution_count": 2,
   "id": "7cd856b4",
   "metadata": {
    "ExecuteTime": {
     "end_time": "2023-07-24T11:33:34.582389Z",
     "start_time": "2023-07-24T11:33:33.781195Z"
    },
    "collapsed": false,
    "jupyter": {
     "outputs_hidden": false
    }
   },
   "outputs": [
    {
     "name": "stdout",
     "output_type": "stream",
     "text": [
      "Requirement already satisfied: openai in /Users/mzubair/venv/langchain-series/lib/python3.10/site-packages (0.27.8)\n",
      "Requirement already satisfied: python-dotenv in /Users/mzubair/venv/langchain-series/lib/python3.10/site-packages (1.0.0)\n",
      "Requirement already satisfied: aiohttp in /Users/mzubair/venv/langchain-series/lib/python3.10/site-packages (from openai) (3.8.5)\n",
      "Requirement already satisfied: tqdm in /Users/mzubair/venv/langchain-series/lib/python3.10/site-packages (from openai) (4.65.0)\n",
      "Requirement already satisfied: requests>=2.20 in /Users/mzubair/venv/langchain-series/lib/python3.10/site-packages (from openai) (2.31.0)\n",
      "Requirement already satisfied: certifi>=2017.4.17 in /Users/mzubair/venv/langchain-series/lib/python3.10/site-packages (from requests>=2.20->openai) (2023.7.22)\n",
      "Requirement already satisfied: charset-normalizer<4,>=2 in /Users/mzubair/venv/langchain-series/lib/python3.10/site-packages (from requests>=2.20->openai) (3.2.0)\n",
      "Requirement already satisfied: idna<4,>=2.5 in /Users/mzubair/venv/langchain-series/lib/python3.10/site-packages (from requests>=2.20->openai) (3.4)\n",
      "Requirement already satisfied: urllib3<3,>=1.21.1 in /Users/mzubair/venv/langchain-series/lib/python3.10/site-packages (from requests>=2.20->openai) (2.0.4)\n",
      "Requirement already satisfied: attrs>=17.3.0 in /Users/mzubair/venv/langchain-series/lib/python3.10/site-packages (from aiohttp->openai) (23.1.0)\n",
      "Requirement already satisfied: async-timeout<5.0,>=4.0.0a3 in /Users/mzubair/venv/langchain-series/lib/python3.10/site-packages (from aiohttp->openai) (4.0.2)\n",
      "Requirement already satisfied: multidict<7.0,>=4.5 in /Users/mzubair/venv/langchain-series/lib/python3.10/site-packages (from aiohttp->openai) (6.0.4)\n",
      "Requirement already satisfied: yarl<2.0,>=1.0 in /Users/mzubair/venv/langchain-series/lib/python3.10/site-packages (from aiohttp->openai) (1.9.2)\n",
      "Requirement already satisfied: frozenlist>=1.1.1 in /Users/mzubair/venv/langchain-series/lib/python3.10/site-packages (from aiohttp->openai) (1.4.0)\n",
      "Requirement already satisfied: aiosignal>=1.1.2 in /Users/mzubair/venv/langchain-series/lib/python3.10/site-packages (from aiohttp->openai) (1.3.1)\n",
      "\n",
      "\u001b[1m[\u001b[0m\u001b[34;49mnotice\u001b[0m\u001b[1;39;49m]\u001b[0m\u001b[39;49m A new release of pip available: \u001b[0m\u001b[31;49m22.3.1\u001b[0m\u001b[39;49m -> \u001b[0m\u001b[32;49m23.2.1\u001b[0m\n",
      "\u001b[1m[\u001b[0m\u001b[34;49mnotice\u001b[0m\u001b[1;39;49m]\u001b[0m\u001b[39;49m To update, run: \u001b[0m\u001b[32;49mpip install --upgrade pip\u001b[0m\n",
      "Note: you may need to restart the kernel to use updated packages.\n"
     ]
    }
   ],
   "source": [
    "pip install openai python-dotenv"
   ]
  },
  {
   "cell_type": "code",
   "execution_count": 3,
   "id": "a601772a",
   "metadata": {
    "ExecuteTime": {
     "end_time": "2023-07-24T11:33:35.544430Z",
     "start_time": "2023-07-24T11:33:35.368795Z"
    }
   },
   "outputs": [],
   "source": [
    "import os\n",
    "import openai\n",
    "from dotenv import load_dotenv\n",
    "\n",
    "load_dotenv()\n",
    "openai.api_key = os.getenv(\"OPENAI_API_KEY\")"
   ]
  },
  {
   "cell_type": "code",
   "execution_count": 4,
   "id": "9399578c",
   "metadata": {
    "ExecuteTime": {
     "end_time": "2023-07-24T11:33:51.913596Z",
     "start_time": "2023-07-24T11:33:51.908500Z"
    },
    "collapsed": false,
    "jupyter": {
     "outputs_hidden": false
    }
   },
   "outputs": [],
   "source": [
    "import csv\n",
    "\n",
    "def read_data_from_csv(filename):\n",
    "    data = []\n",
    "\n",
    "    with open(filename, 'r') as csvfile:\n",
    "        reader = csv.DictReader(csvfile)\n",
    "        for row in reader:\n",
    "            data.append(row)\n",
    "\n",
    "    return data"
   ]
  },
  {
   "cell_type": "code",
   "execution_count": 5,
   "id": "fcd7d1c6",
   "metadata": {
    "ExecuteTime": {
     "end_time": "2023-07-24T11:33:59.445967Z",
     "start_time": "2023-07-24T11:33:59.439991Z"
    },
    "collapsed": false,
    "jupyter": {
     "outputs_hidden": false
    }
   },
   "outputs": [],
   "source": [
    "subjects_filename = \"subjects.csv\"\n",
    "subjects_data = read_data_from_csv(subjects_filename)"
   ]
  },
  {
   "cell_type": "code",
   "execution_count": 6,
   "id": "aff19d8e",
   "metadata": {
    "ExecuteTime": {
     "end_time": "2023-07-24T11:34:10.914361Z",
     "start_time": "2023-07-24T11:34:10.901742Z"
    },
    "collapsed": false,
    "jupyter": {
     "outputs_hidden": false
    }
   },
   "outputs": [],
   "source": [
    "students_filename = \"students.csv\"\n",
    "students_data = read_data_from_csv(students_filename)"
   ]
  },
  {
   "cell_type": "code",
   "execution_count": 7,
   "id": "f5c130b6",
   "metadata": {
    "ExecuteTime": {
     "end_time": "2023-07-24T11:34:15.727512Z",
     "start_time": "2023-07-24T11:34:15.724862Z"
    }
   },
   "outputs": [],
   "source": [
    "def perform_api_request(conversation, user_message, history=True):\n",
    "    # Append the new user message to the conversation history\n",
    "    conversation.append({\"role\": \"user\", \"content\": user_message})\n",
    "\n",
    "    # Generate a chat completion response\n",
    "    response = openai.ChatCompletion.create(\n",
    "        model=\"gpt-4\",\n",
    "        messages=conversation,\n",
    "        n=1,\n",
    "        temperature=0\n",
    "    )\n",
    "\n",
    "    # Extract the reply from the API response\n",
    "    reply_message = response[\"choices\"][0][\"message\"][\"content\"]\n",
    "\n",
    "    if history:\n",
    "        # Append the assistant's reply to the conversation history\n",
    "        conversation.append({\"role\": \"assistant\", \"content\": reply_message})\n",
    "    else:\n",
    "        # remove user_message from the conversation\n",
    "        conversation.pop()    \n",
    "\n",
    "    # Return the assistant's reply\n",
    "    return reply_message"
   ]
  },
  {
   "cell_type": "code",
   "execution_count": 8,
   "id": "59861a37",
   "metadata": {
    "ExecuteTime": {
     "end_time": "2023-07-24T11:34:17.451258Z",
     "start_time": "2023-07-24T11:34:17.446908Z"
    }
   },
   "outputs": [],
   "source": [
    "conversation = [\n",
    "    {\"role\": \"system\", \"content\": \"You are an expert time scheduler for the university classes. You can also interpret JSON efficiently.\"}\n",
    "]"
   ]
  },
  {
   "cell_type": "code",
   "execution_count": 9,
   "id": "34060df6",
   "metadata": {
    "ExecuteTime": {
     "end_time": "2023-07-24T11:34:20.989866Z",
     "start_time": "2023-07-24T11:34:18.783635Z"
    }
   },
   "outputs": [],
   "source": [
    "initial_prompt = f\"\"\"\n",
    "Here is the subjects data containing subject name, their total number of classes to be attended by a student, and the available classes slots.\n",
    "{subjects_data}\n",
    "Please remember that and answer upcoming questions\n",
    "\"\"\"\n",
    "response = perform_api_request(conversation, initial_prompt)"
   ]
  },
  {
   "cell_type": "code",
   "execution_count": 11,
   "id": "916f02b8",
   "metadata": {
    "ExecuteTime": {
     "end_time": "2023-07-24T11:35:15.570977Z",
     "start_time": "2023-07-24T11:34:22.541051Z"
    }
   },
   "outputs": [
    {
     "name": "stdout",
     "output_type": "stream",
     "text": [
      "Based on the subjects data and the student's registered subjects, here is the proposed schedule for John Doe:\n",
      "\n",
      "StudentName: John Doe\n",
      "\n",
      "Subject1: Mathematics\n",
      "Classes list:\n",
      "- Monday 9:00 AM - 10:30 AM\n",
      "- Tuesday 1:00 PM - 2:30 PM\n",
      "- Thursday 1:00 PM - 2:30 PM\n",
      "\n",
      "Subject2: Science\n",
      "Classes list:\n",
      "- Tuesday 9:00 AM - 10:30 AM\n",
      "- Thursday 11:00 AM - 12:30 PM\n",
      "- Friday 1:00 PM - 2:30 PM\n",
      "\n",
      "Subject3: History\n",
      "Classes list:\n",
      "- Monday 11:00 AM - 12:30 PM\n",
      "- Wednesday 1:00 PM - 2:30 PM\n",
      "\n",
      "Note: The consideration of avoiding classes on Mondays and Fridays could not be fully met due to the limited available slots for the registered subjects. \n",
      "\n",
      "Based on the subjects registered and the considerations given, here is the proposed schedule for Jane Smith:\n",
      "\n",
      "StudentName: Jane Smith\n",
      "\n",
      "Subject1: English\n",
      "Classes list:\n",
      "- Tuesday 9:00 AM - 10:30 AM\n",
      "- Tuesday 1:00 PM - 2:30 PM\n",
      "- Wednesday 9:00 AM - 10:30 AM\n",
      "\n",
      "Subject2: Mathematics\n",
      "Classes list:\n",
      "- Monday 9:00 AM - 10:30 AM\n",
      "- Tuesday 3:00 PM - 4:30 PM\n",
      "- Thursday 1:00 PM - 2:30 PM\n",
      "\n",
      "Subject3: Science\n",
      "Classes list:\n",
      "- Tuesday 9:00 AM - 10:30 AM\n",
      "- Thursday 11:00 AM - 12:30 PM\n",
      "- Friday 1:00 PM - 2:30 PM\n",
      "\n",
      "Note: The consideration of preferring afternoon sessions on Tuesdays and Thursdays has been partially fulfilled. The English class on Tuesday and the Mathematics class on Thursday are scheduled in the afternoon. However, due to the need to avoid scheduling conflicts and to ensure the required number of classes per week for each subject, not all classes on these days could be scheduled in the afternoon. \n",
      "\n",
      "Based on the given data, here is the proposed schedule for Michael Johnson:\n",
      "\n",
      "StudentName: Michael Johnson\n",
      "\n",
      "Subject1: History\n",
      "Classes list:\n",
      "- Monday 11:00 AM - 12:30 PM\n",
      "- Monday 3:00 PM - 4:30 PM\n",
      "\n",
      "Subject2: Chemistry\n",
      "Classes list:\n",
      "- Monday 1:00 PM - 2:30 PM\n",
      "- Thursday 11:00 AM - 12:30 PM\n",
      "\n",
      "Subject3: Science\n",
      "Classes list:\n",
      "- Tuesday 9:00 AM - 10:30 AM\n",
      "- Friday 1:00 PM - 2:30 PM\n",
      "- Friday 3:00 PM - 4:30 PM\n",
      "\n",
      "Note: The consideration of 'No classes on Wednesdays' has been fulfilled. \n",
      "\n"
     ]
    }
   ],
   "source": [
    "for student in students_data:\n",
    "    prompt = f\"\"\"\n",
    "    Here are the subjects registered and considerations for a student, please schedule classes for him for his given subjects.\n",
    "    {student}\n",
    "    The number of classes per week for each subject must be the same as mentioned in the data.\n",
    "    Note that, if there is a conflict between scheduling and considerations, ignore the consideration. At the end of the message, add a very short and specific comment regarding consideration fulfillment.\n",
    "    Moreover, never schedule two different classes at the same time.\n",
    "    Prepare the timetable in the following format:\n",
    "    StudentName:\n",
    "    Subject1:\n",
    "    Classes list\n",
    "    Subject2:\n",
    "    Classes list\n",
    "    Subject3:\n",
    "    Classes list\n",
    "    and so on.\n",
    "    \"\"\"\n",
    "    response = perform_api_request(\n",
    "        conversation=conversation, \n",
    "        user_message=prompt, \n",
    "        history=False\n",
    "    )\n",
    "    print(response, '\\n')"
   ]
  },
  {
   "cell_type": "code",
   "execution_count": null,
   "id": "c7e87b4e",
   "metadata": {},
   "outputs": [],
   "source": []
  }
 ],
 "metadata": {
  "kernelspec": {
   "display_name": "Python 3 (ipykernel)",
   "language": "python",
   "name": "python3"
  },
  "language_info": {
   "codemirror_mode": {
    "name": "ipython",
    "version": 3
   },
   "file_extension": ".py",
   "mimetype": "text/x-python",
   "name": "python",
   "nbconvert_exporter": "python",
   "pygments_lexer": "ipython3",
   "version": "3.10.12"
  }
 },
 "nbformat": 4,
 "nbformat_minor": 5
}
